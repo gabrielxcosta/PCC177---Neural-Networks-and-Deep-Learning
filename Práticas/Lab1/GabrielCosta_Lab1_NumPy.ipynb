{
  "nbformat": 4,
  "nbformat_minor": 0,
  "metadata": {
    "colab": {
      "provenance": [],
      "gpuType": "T4"
    },
    "kernelspec": {
      "name": "python3",
      "display_name": "Python 3"
    },
    "language_info": {
      "name": "python"
    },
    "accelerator": "GPU"
  },
  "cells": [
    {
      "cell_type": "markdown",
      "source": [
        "# Lab 1 - BCC406/PCC177\n",
        "\n",
        "## REDES NEURAIS E APRENDIZAGEM EM PROFUNDIDADE\n",
        "\n",
        "## Pacote *NumPy e Tensor do PyTorch*\n",
        "\n",
        "### Prof. Eduardo e Prof. Vander\n",
        "\n",
        "Objetivos:\n",
        "\n",
        "- Exercitar n-dimensional arrays.\n",
        "\n",
        "Data da entrega : 06/10/2025\n",
        "\n",
        "- Complete o código (marcado com 'ToDo') e quando requisitado, escreva textos diretamente nos notebooks. Onde tiver *None*, substitua pelo seu código.\n",
        "- Execute todo notebook e salve tudo em um PDF **nomeado** como \"NomeSobrenome-LabX.pdf\"\n",
        "- Envie o PDF e o o *.ipynb* via [Formulário Google](https://docs.google.com/forms/d/e/1FAIpQLSfOgjrTA7dz6ZyyeXO-udDJyUqux-qiHaSZEIFRg38oBmi4mg/viewform?usp=dialog).\n",
        "\n",
        "Sugestão de leitura:\n",
        "\n",
        "- Ler [Capítulo 2 do livro texto](https://pt.d2l.ai/chapter_preliminaries/index.html). Dê ênfase para as seções 2.3 e 2.4. **Sugerimos fortemente** abrir com o Colab e executar estas duas seções passo a passo.\n",
        "- Ler [Capítulo 3 do livro texto](https://d2l.ai/chapter_linear-regression/index.html).\n"
      ],
      "metadata": {
        "id": "X9fHBqFr2AoZ"
      }
    },
    {
      "cell_type": "markdown",
      "source": [
        "## ***NumPy***"
      ],
      "metadata": {
        "id": "eDZEOwGdS_fY"
      }
    },
    {
      "cell_type": "markdown",
      "metadata": {
        "id": "rgbVriCaYte2"
      },
      "source": [
        "*NumPy* é uma das bibliotecas mais populares para computação científica. Ela foi desenvolvida para dar suporte a operações com *arrays* de *N* dimensões e implementa métodos úteis para operações de álgebra linear, geração de números aleatórios, etc."
      ]
    },
    {
      "cell_type": "markdown",
      "source": [
        "### Criando arrays (5pt)"
      ],
      "metadata": {
        "id": "ExS_LMr9TC3P"
      }
    },
    {
      "cell_type": "code",
      "metadata": {
        "id": "_BahTvnI2YfB"
      },
      "source": [
        "# Primeiramente, vamos importar a biblioteca\n",
        "import numpy as np"
      ],
      "execution_count": 58,
      "outputs": []
    },
    {
      "cell_type": "code",
      "metadata": {
        "id": "GZ7qRwmy11Vv",
        "colab": {
          "base_uri": "https://localhost:8080/"
        },
        "outputId": "ad7f4406-ae98-472e-c17b-c24a50ee57f6"
      },
      "source": [
        "# Usaremos a função zeros para criar um array de uma dimensão de tamanho 5\n",
        "np.zeros(5)"
      ],
      "execution_count": 59,
      "outputs": [
        {
          "output_type": "execute_result",
          "data": {
            "text/plain": [
              "array([0., 0., 0., 0., 0.])"
            ]
          },
          "metadata": {},
          "execution_count": 59
        }
      ]
    },
    {
      "cell_type": "code",
      "metadata": {
        "id": "AZFe47z7c1c_",
        "colab": {
          "base_uri": "https://localhost:8080/"
        },
        "outputId": "8b313828-8840-4de2-e210-81ae2acfb08d"
      },
      "source": [
        "# Da mesma forma, para criar um array de duas dimensões:\n",
        "np.zeros((3,4))"
      ],
      "execution_count": 60,
      "outputs": [
        {
          "output_type": "execute_result",
          "data": {
            "text/plain": [
              "array([[0., 0., 0., 0.],\n",
              "       [0., 0., 0., 0.],\n",
              "       [0., 0., 0., 0.]])"
            ]
          },
          "metadata": {},
          "execution_count": 60
        }
      ]
    },
    {
      "cell_type": "code",
      "source": [
        "# ToDo: Crie um array de três dimensões com o shape (3, 3, 3)\n",
        "np.zeros((3, 3, 3))"
      ],
      "metadata": {
        "id": "GCTkdOYLdSiz",
        "colab": {
          "base_uri": "https://localhost:8080/"
        },
        "outputId": "68de21fa-a373-447f-d603-42f9f5551653"
      },
      "execution_count": 61,
      "outputs": [
        {
          "output_type": "execute_result",
          "data": {
            "text/plain": [
              "array([[[0., 0., 0.],\n",
              "        [0., 0., 0.],\n",
              "        [0., 0., 0.]],\n",
              "\n",
              "       [[0., 0., 0.],\n",
              "        [0., 0., 0.],\n",
              "        [0., 0., 0.]],\n",
              "\n",
              "       [[0., 0., 0.],\n",
              "        [0., 0., 0.],\n",
              "        [0., 0., 0.]]])"
            ]
          },
          "metadata": {},
          "execution_count": 61
        }
      ]
    },
    {
      "cell_type": "markdown",
      "source": [
        "### Vocabulário comum"
      ],
      "metadata": {
        "id": "pyg4oHLMTrV2"
      }
    },
    {
      "cell_type": "markdown",
      "metadata": {
        "id": "M8KT-jbZc_6k"
      },
      "source": [
        "* Em *NumPy*, cada dimensão é chamada eixo (***axis***).\n",
        "* Um array é uma lista de axis e uma lista de tamanho dos axis é o que chamamos de **shape** do array.\n",
        "    * Por exemplo, o shape da matrix acima é `(3, 4)`.\n",
        "    \n",
        "* O tamanho (***size***) de uma array é o número total de elementos, por exemplo, no array 2D acima = `3 * 4 = 12`."
      ]
    },
    {
      "cell_type": "code",
      "metadata": {
        "id": "1YWyPHbuc_SN",
        "colab": {
          "base_uri": "https://localhost:8080/"
        },
        "outputId": "ba174029-b351-4c0e-b889-7ee95595eade"
      },
      "source": [
        "# Criando e mostrando o array\n",
        "a = np.zeros((3,4))\n",
        "a"
      ],
      "execution_count": 62,
      "outputs": [
        {
          "output_type": "execute_result",
          "data": {
            "text/plain": [
              "array([[0., 0., 0., 0.],\n",
              "       [0., 0., 0., 0.],\n",
              "       [0., 0., 0., 0.]])"
            ]
          },
          "metadata": {},
          "execution_count": 62
        }
      ]
    },
    {
      "cell_type": "code",
      "metadata": {
        "id": "UUvZr2bBcwC7",
        "colab": {
          "base_uri": "https://localhost:8080/"
        },
        "outputId": "3d78ca71-84cb-42de-d28d-055a2e0b429b"
      },
      "source": [
        "# Verificando o shape do array\n",
        "a.shape"
      ],
      "execution_count": 63,
      "outputs": [
        {
          "output_type": "execute_result",
          "data": {
            "text/plain": [
              "(3, 4)"
            ]
          },
          "metadata": {},
          "execution_count": 63
        }
      ]
    },
    {
      "cell_type": "code",
      "metadata": {
        "id": "5Vrzg2yMeaiS",
        "colab": {
          "base_uri": "https://localhost:8080/"
        },
        "outputId": "c29c8cae-b7bd-446a-aece-3e5cbe5f3518"
      },
      "source": [
        "# Verificando a quantidade de dimensões de um array\n",
        "a.ndim"
      ],
      "execution_count": 64,
      "outputs": [
        {
          "output_type": "execute_result",
          "data": {
            "text/plain": [
              "2"
            ]
          },
          "metadata": {},
          "execution_count": 64
        }
      ]
    },
    {
      "cell_type": "code",
      "metadata": {
        "id": "0dIVxyT6eeFp",
        "colab": {
          "base_uri": "https://localhost:8080/"
        },
        "outputId": "96a2a705-26fa-4882-bee4-ad78c1409b0c"
      },
      "source": [
        "# Verificando a quantidade de elemntos no array\n",
        "a.size"
      ],
      "execution_count": 65,
      "outputs": [
        {
          "output_type": "execute_result",
          "data": {
            "text/plain": [
              "12"
            ]
          },
          "metadata": {},
          "execution_count": 65
        }
      ]
    },
    {
      "cell_type": "code",
      "metadata": {
        "id": "6r6XyebuexGL",
        "colab": {
          "base_uri": "https://localhost:8080/"
        },
        "outputId": "bdc7a757-b8c9-48cb-d4ba-86726c38c218"
      },
      "source": [
        "# ToDo : Criar um array de 3 dimensões, de shape (2,3,4) e mostrar o shape, quantidade de dimensões e o número de elemetos\n",
        "a = np.zeros((2, 3, 4))\n",
        "print(a)\n",
        "print(a.shape)\n",
        "print(a.ndim)\n",
        "print(a.size)"
      ],
      "execution_count": 66,
      "outputs": [
        {
          "output_type": "stream",
          "name": "stdout",
          "text": [
            "[[[0. 0. 0. 0.]\n",
            "  [0. 0. 0. 0.]\n",
            "  [0. 0. 0. 0.]]\n",
            "\n",
            " [[0. 0. 0. 0.]\n",
            "  [0. 0. 0. 0.]\n",
            "  [0. 0. 0. 0.]]]\n",
            "(2, 3, 4)\n",
            "3\n",
            "24\n"
          ]
        }
      ]
    },
    {
      "cell_type": "code",
      "source": [
        "# ToDo : Criar um array de 3 dimensões mas trocando a função zeros por ones e mostrar o shape, quantidade de dimensões e o número de elementos\n",
        "a = np.ones((2, 3, 4))\n",
        "print(a)\n",
        "print(a.shape)\n",
        "print(a.ndim)\n",
        "print(a.size)"
      ],
      "metadata": {
        "id": "1GW4U4OeeEIL",
        "colab": {
          "base_uri": "https://localhost:8080/"
        },
        "outputId": "38bac0dd-ac7f-4c29-83e4-47c964fbef52"
      },
      "execution_count": 67,
      "outputs": [
        {
          "output_type": "stream",
          "name": "stdout",
          "text": [
            "[[[1. 1. 1. 1.]\n",
            "  [1. 1. 1. 1.]\n",
            "  [1. 1. 1. 1.]]\n",
            "\n",
            " [[1. 1. 1. 1.]\n",
            "  [1. 1. 1. 1.]\n",
            "  [1. 1. 1. 1.]]]\n",
            "(2, 3, 4)\n",
            "3\n",
            "24\n"
          ]
        }
      ]
    },
    {
      "cell_type": "code",
      "source": [
        "# ToDo : Criar um array de 3 dimensões mas trocando a função zeros por full e mostrar o shape, quantidade de dimensões e o número de elementos\n",
        "a = np.full((2, 3, 4), 5)\n",
        "print(a)\n",
        "print(a.shape)\n",
        "print(a.ndim)\n",
        "print(a.size)"
      ],
      "metadata": {
        "id": "6-SmdqTMeD-3",
        "colab": {
          "base_uri": "https://localhost:8080/"
        },
        "outputId": "34370b09-9c83-45bc-9747-37f06251b720"
      },
      "execution_count": 68,
      "outputs": [
        {
          "output_type": "stream",
          "name": "stdout",
          "text": [
            "[[[5 5 5 5]\n",
            "  [5 5 5 5]\n",
            "  [5 5 5 5]]\n",
            "\n",
            " [[5 5 5 5]\n",
            "  [5 5 5 5]\n",
            "  [5 5 5 5]]]\n",
            "(2, 3, 4)\n",
            "3\n",
            "24\n"
          ]
        }
      ]
    },
    {
      "cell_type": "code",
      "metadata": {
        "id": "ZDy7vZuWfIto",
        "colab": {
          "base_uri": "https://localhost:8080/"
        },
        "outputId": "1c67f694-f4f0-4442-fb49-9782a7fb871b"
      },
      "source": [
        "# ToDo : Criar um array de 3 dimensões mas trocando a função zeros por empty e mostrar o shape, quantidade de dimensões e o número de elementos\n",
        "a = np.empty((2, 3, 4))\n",
        "print(a)\n",
        "print(a.shape)\n",
        "print(a.ndim)\n",
        "print(a.size)"
      ],
      "execution_count": 69,
      "outputs": [
        {
          "output_type": "stream",
          "name": "stdout",
          "text": [
            "[[[1. 1. 1. 1.]\n",
            "  [1. 1. 1. 1.]\n",
            "  [1. 1. 1. 1.]]\n",
            "\n",
            " [[1. 1. 1. 1.]\n",
            "  [1. 1. 1. 1.]\n",
            "  [1. 1. 1. 1.]]]\n",
            "(2, 3, 4)\n",
            "3\n",
            "24\n"
          ]
        }
      ]
    },
    {
      "cell_type": "markdown",
      "source": [
        "> **ToDo**: O que você pode dizer sobre cada uma das quatro funções que você usou?\n",
        "\n",
        "`zeros:` cria array preenchido com 0.\n",
        "\n",
        "`ones:` cria array preenchido com 1.\n",
        "\n",
        "`full:` cria array preenchido com um valor definido.\n",
        "\n",
        "`empty:` cria array sem inicializar valores (lixo de memória)."
      ],
      "metadata": {
        "id": "YKAY7gdxeVzs"
      }
    },
    {
      "cell_type": "markdown",
      "source": [
        "### O comando ***np.arange***"
      ],
      "metadata": {
        "id": "nkjmI9MeTyjL"
      }
    },
    {
      "cell_type": "markdown",
      "metadata": {
        "id": "_TzkxvDDfgWc"
      },
      "source": [
        "Você pode criar um array usando a função arange, similar a função range do Python."
      ]
    },
    {
      "cell_type": "code",
      "metadata": {
        "id": "vSxyvBeEftcC",
        "colab": {
          "base_uri": "https://localhost:8080/"
        },
        "outputId": "e641075c-1f7e-4462-ce27-075882d634df"
      },
      "source": [
        "# Criando um array\n",
        "np.arange(1, 5)"
      ],
      "execution_count": 70,
      "outputs": [
        {
          "output_type": "execute_result",
          "data": {
            "text/plain": [
              "array([1, 2, 3, 4])"
            ]
          },
          "metadata": {},
          "execution_count": 70
        }
      ]
    },
    {
      "cell_type": "code",
      "metadata": {
        "id": "QQYKeQ4HfvzP",
        "colab": {
          "base_uri": "https://localhost:8080/"
        },
        "outputId": "6a59f5d4-abc3-4875-a8bf-fffd69a48afb"
      },
      "source": [
        "# Para criar com ponto flutuante\n",
        "np.arange(1.0, 5.0)"
      ],
      "execution_count": 71,
      "outputs": [
        {
          "output_type": "execute_result",
          "data": {
            "text/plain": [
              "array([1., 2., 3., 4.])"
            ]
          },
          "metadata": {},
          "execution_count": 71
        }
      ]
    },
    {
      "cell_type": "code",
      "metadata": {
        "id": "6U8y37khjYOM",
        "colab": {
          "base_uri": "https://localhost:8080/"
        },
        "outputId": "07555f8e-dc26-4729-8f5b-5f3c5a9fb16f"
      },
      "source": [
        "# ToDo : crie um array com arange, variando de 1 a 5, com um passo de 0.5\n",
        "np.arange(1.0, 5.0, 0.5)"
      ],
      "execution_count": 72,
      "outputs": [
        {
          "output_type": "execute_result",
          "data": {
            "text/plain": [
              "array([1. , 1.5, 2. , 2.5, 3. , 3.5, 4. , 4.5])"
            ]
          },
          "metadata": {},
          "execution_count": 72
        }
      ]
    },
    {
      "cell_type": "markdown",
      "source": [
        "### Os comandos ***np.rand*** e ***np.randn***"
      ],
      "metadata": {
        "id": "QRAQgy0PUDc4"
      }
    },
    {
      "cell_type": "markdown",
      "metadata": {
        "id": "a3FACJL6jxIc"
      },
      "source": [
        "O *NumPy* tem várias funções para criação de números aleatórios. Estas funções são muito úteis para inicialização dos pesos das redes neurais. Por exemplo, abaixo criamos uma matrix `(3, 4)` inicializada com números em ponto flutuante (*floats*) e distribuição uniforme:"
      ]
    },
    {
      "cell_type": "code",
      "metadata": {
        "id": "xgCOeCnLkWnT",
        "colab": {
          "base_uri": "https://localhost:8080/"
        },
        "outputId": "4d43d1a6-1cd3-4658-fe9c-e4c5283289d6"
      },
      "source": [
        "np.random.rand(3,4)"
      ],
      "execution_count": 73,
      "outputs": [
        {
          "output_type": "execute_result",
          "data": {
            "text/plain": [
              "array([[0.14142744, 0.77302511, 0.7793557 , 0.63504211],\n",
              "       [0.59487907, 0.53620587, 0.90926345, 0.4201612 ],\n",
              "       [0.04636207, 0.17737144, 0.22183328, 0.42542646]])"
            ]
          },
          "metadata": {},
          "execution_count": 73
        }
      ]
    },
    {
      "cell_type": "markdown",
      "metadata": {
        "id": "wJ5O6QOvNYOv"
      },
      "source": [
        "Abaixo um matriz inicializada com distribuição gaussiana ([normal distribution](https://en.wikipedia.org/wiki/Normal_distribution)) com média 0 e variância 1"
      ]
    },
    {
      "cell_type": "code",
      "metadata": {
        "id": "YzbgYn_4kbTp",
        "colab": {
          "base_uri": "https://localhost:8080/"
        },
        "outputId": "204d6148-0d97-4f93-f58b-349a35b6bb1b"
      },
      "source": [
        "np.random.randn(3,4)"
      ],
      "execution_count": 74,
      "outputs": [
        {
          "output_type": "execute_result",
          "data": {
            "text/plain": [
              "array([[-0.17767661,  0.31224186,  0.78679205, -0.15716736],\n",
              "       [ 0.21357056,  0.35967241,  0.44376962,  0.57378597],\n",
              "       [-0.64232905,  0.80098536,  0.80802256,  0.35976225]])"
            ]
          },
          "metadata": {},
          "execution_count": 74
        }
      ]
    },
    {
      "cell_type": "code",
      "source": [
        "# ToDo : crie um array aleatório com o shape (1, 2, 3, 4)\n",
        "np.random.randn(1, 2, 3, 4)"
      ],
      "metadata": {
        "id": "ABvDRpYFfaSr",
        "colab": {
          "base_uri": "https://localhost:8080/"
        },
        "outputId": "6059fd5f-f714-44f6-f6f7-db7183bd8e31"
      },
      "execution_count": 75,
      "outputs": [
        {
          "output_type": "execute_result",
          "data": {
            "text/plain": [
              "array([[[[ 0.63980285, -2.10538185,  1.27131449,  0.47978287],\n",
              "         [-0.96666832, -0.91183433, -1.59667957, -0.18973863],\n",
              "         [ 0.98716216, -2.24266924, -0.30400973, -0.70843055]],\n",
              "\n",
              "        [[-0.81976387,  0.00279809, -0.35599406, -0.40666468],\n",
              "         [ 1.29867245,  0.51317321, -0.05362184,  0.47836815],\n",
              "         [-1.27766356, -0.12697755,  1.43027034,  0.25040025]]]])"
            ]
          },
          "metadata": {},
          "execution_count": 75
        }
      ]
    },
    {
      "cell_type": "markdown",
      "source": [
        "### A biblioteca *MatplotLib*"
      ],
      "metadata": {
        "id": "sby7_674UWCW"
      }
    },
    {
      "cell_type": "markdown",
      "metadata": {
        "id": "NHZ0hdo5mpir"
      },
      "source": [
        "Vamos usar a biblioteca matplotlib (para mais detalhes veja o [tutorial de *matplotlib*](https://drive.google.com/file/d/1f3Y_gm-URBVov5wIOs-JrdNw0gK86EXL/view?usp=sharing)) para plotar dois arrays de tamanho 10.000, um inicializado com distribuição normal e o outro com uniforme"
      ]
    },
    {
      "cell_type": "code",
      "metadata": {
        "id": "Pk6XqokcnBLs"
      },
      "source": [
        "%matplotlib inline\n",
        "import matplotlib.pyplot as plt"
      ],
      "execution_count": 76,
      "outputs": []
    },
    {
      "cell_type": "markdown",
      "source": [
        "Primeiro os dados que serão plotados precisam ser criados"
      ],
      "metadata": {
        "id": "ZvBz0bCBjNr_"
      }
    },
    {
      "cell_type": "code",
      "metadata": {
        "id": "yAjUzzS5nFNY"
      },
      "source": [
        "array_a = np.random.randn(10000)\n",
        "array_b = np.random.randn(10000)"
      ],
      "execution_count": 77,
      "outputs": []
    },
    {
      "cell_type": "markdown",
      "source": [
        "Depois eles podem ser plotados"
      ],
      "metadata": {
        "id": "Rz2WWH-1jRTb"
      }
    },
    {
      "cell_type": "code",
      "metadata": {
        "id": "QaVSaHDanFX7",
        "colab": {
          "base_uri": "https://localhost:8080/",
          "height": 482
        },
        "outputId": "bf0c23e9-69d3-4440-f32b-c42eeb037ee3"
      },
      "source": [
        "plt.hist(array_a, density=True, bins=100, histtype=\"step\", color=\"blue\", label=\"rand\")\n",
        "plt.hist(array_b, density=True, bins=100, histtype=\"step\", color=\"red\", label=\"randn\")\n",
        "plt.axis([-2.5, 2.5, 0, 1.1])\n",
        "plt.legend(loc = \"upper left\")\n",
        "plt.title(\"Distribuições aleatṍrias\")\n",
        "plt.xlabel(\"Valor\")\n",
        "plt.ylabel(\"Densidade\")\n",
        "plt.show()"
      ],
      "execution_count": 78,
      "outputs": [
        {
          "output_type": "display_data",
          "data": {
            "text/plain": [
              "<Figure size 640x480 with 1 Axes>"
            ],
            "image/png": "[encoded data removed]"
          },
          "metadata": {}
        }
      ]
    },
    {
      "cell_type": "markdown",
      "source": [
        "### Tipo de dados (***dtype***)"
      ],
      "metadata": {
        "id": "xNJLRAtyUt5v"
      }
    },
    {
      "cell_type": "markdown",
      "metadata": {
        "id": "hqg3Mkz3nt6i"
      },
      "source": [
        "Você pode ver qual o tipo de dado pelo atributo `dtype`. Verifique abaixo:"
      ]
    },
    {
      "cell_type": "code",
      "metadata": {
        "id": "_8RjI5j-n38c",
        "colab": {
          "base_uri": "https://localhost:8080/"
        },
        "outputId": "1b12f855-bb68-4d61-c889-09b013c6687f"
      },
      "source": [
        "c = np.arange(1, 5)\n",
        "print(c.dtype, c)"
      ],
      "execution_count": 79,
      "outputs": [
        {
          "output_type": "stream",
          "name": "stdout",
          "text": [
            "int64 [1 2 3 4]\n"
          ]
        }
      ]
    },
    {
      "cell_type": "code",
      "metadata": {
        "id": "FE2DlBhkn9CE",
        "colab": {
          "base_uri": "https://localhost:8080/"
        },
        "outputId": "97c9e3e6-3909-4399-f575-8f1bb38b1392"
      },
      "source": [
        "# ToDo: Crie um um array aleatório de shape (2, 3, 4) e verifique o seu tipo\n",
        "d = np.random.randn(2, 3, 4)\n",
        "print(d.dtype, d)"
      ],
      "execution_count": 80,
      "outputs": [
        {
          "output_type": "stream",
          "name": "stdout",
          "text": [
            "float64 [[[ 0.93438195  0.39970972  1.16630012  0.47328075]\n",
            "  [ 1.67489884 -0.25314604 -0.14906415 -0.57788085]\n",
            "  [-1.7523415   0.79962879  0.48479152 -0.2824134 ]]\n",
            "\n",
            " [[-1.26362736 -0.12422629  0.47441827 -0.73472944]\n",
            "  [-0.78479461  1.0860352   0.42086812  1.22441504]\n",
            "  [-0.67578086  0.50677444 -0.66903631  0.09884928]]]\n"
          ]
        }
      ]
    },
    {
      "cell_type": "markdown",
      "metadata": {
        "id": "ylFtnobMoDof"
      },
      "source": [
        "Tipos disponĩveis: `int8`, `int16`, `int32`, `int64`, `uint8`|`16`|`32`|`64`, `float16`|`32`|`64` e `complex64`|`128`. Veja a [documentação](http://docs.scipy.org/doc/numpy-1.10.1/user/basics.types.html) para a lista completa.\n"
      ]
    },
    {
      "cell_type": "markdown",
      "source": [
        "### Atributo ***itemsize***"
      ],
      "metadata": {
        "id": "sWI7oAE7VFrL"
      }
    },
    {
      "cell_type": "markdown",
      "source": [
        "O atributo `itemsize` retorna o tamanho em bytes"
      ],
      "metadata": {
        "id": "aJnMiG2oVHhc"
      }
    },
    {
      "cell_type": "code",
      "metadata": {
        "id": "94eTv9JWoCDi",
        "colab": {
          "base_uri": "https://localhost:8080/"
        },
        "outputId": "b6b1298e-f707-46da-dace-67ee4e656f99"
      },
      "source": [
        "e = np.arange(1, 5, dtype=np.complex64)\n",
        "e.itemsize"
      ],
      "execution_count": 81,
      "outputs": [
        {
          "output_type": "execute_result",
          "data": {
            "text/plain": [
              "8"
            ]
          },
          "metadata": {},
          "execution_count": 81
        }
      ]
    },
    {
      "cell_type": "code",
      "metadata": {
        "id": "GqBdud2Kocn4",
        "colab": {
          "base_uri": "https://localhost:8080/"
        },
        "outputId": "8a987538-8c8d-4826-b431-149a0b0ad18a"
      },
      "source": [
        "# Na memória, um array é armazenado de forma contígua\n",
        "f = np.array([[1,2],[1000, 2000]], dtype=np.int32)\n",
        "f.data"
      ],
      "execution_count": 82,
      "outputs": [
        {
          "output_type": "execute_result",
          "data": {
            "text/plain": [
              "<memory at 0x7d68c11928e0>"
            ]
          },
          "metadata": {},
          "execution_count": 82
        }
      ]
    },
    {
      "cell_type": "code",
      "source": [
        "# ToDo: Crie arrays de shape (2, 2) dos tipos int8, int64, float16, float64, complex64 e complex128\n",
        "arr_1 = np.ones((2, 2), dtype=np.int8)\n",
        "arr_2 = np.ones((2, 2), dtype=np.int64)\n",
        "arr_3 = np.ones((2, 2), dtype=np.float16)\n",
        "arr_4 = np.ones((2, 2), dtype=np.float64)\n",
        "arr_5 = np.ones((2, 2), dtype=np.complex64)\n",
        "arr_6 = np.ones((2, 2), dtype=np.complex128)"
      ],
      "metadata": {
        "id": "sLnVgJQJjzxU"
      },
      "execution_count": 83,
      "outputs": []
    },
    {
      "cell_type": "code",
      "source": [
        "print(arr_1)\n",
        "print()\n",
        "print(arr_2)\n",
        "print()\n",
        "print(arr_3)\n",
        "print()\n",
        "print(arr_4)\n",
        "print()\n",
        "print(arr_5)\n",
        "print()\n",
        "print(arr_6)"
      ],
      "metadata": {
        "colab": {
          "base_uri": "https://localhost:8080/"
        },
        "id": "poYWv2MbaPDQ",
        "outputId": "2ee4c19f-4f08-4da6-d11d-22b94350a536"
      },
      "execution_count": 84,
      "outputs": [
        {
          "output_type": "stream",
          "name": "stdout",
          "text": [
            "[[1 1]\n",
            " [1 1]]\n",
            "\n",
            "[[1 1]\n",
            " [1 1]]\n",
            "\n",
            "[[1. 1.]\n",
            " [1. 1.]]\n",
            "\n",
            "[[1. 1.]\n",
            " [1. 1.]]\n",
            "\n",
            "[[1.+0.j 1.+0.j]\n",
            " [1.+0.j 1.+0.j]]\n",
            "\n",
            "[[1.+0.j 1.+0.j]\n",
            " [1.+0.j 1.+0.j]]\n"
          ]
        }
      ]
    },
    {
      "cell_type": "markdown",
      "source": [
        "> **ToDo**: O que você pode dizer sobre esses arrays criados?\n",
        "\n",
        "Cada array tem o mesmo shape (2, 2) e valores iguais a 1, mas diferem pelo tipo de dado armazenado:\n",
        "\n",
        "`int8:` inteiros de 8 bits, variam de –128 a 127.\n",
        "\n",
        "`int64:` inteiros de 64 bits, usados para números inteiros muito grandes.\n",
        "\n",
        "`float16:` números decimais em 16 bits, baixa precisão e baixo uso de memória.\n",
        "\n",
        "`float64:` números decimais em 64 bits, alta precisão (padrão do NumPy).\n",
        "\n",
        "`complex64:` números complexos em 64 bits (32 bits para parte real e 32 bits para parte imaginária).\n",
        "\n",
        "`complex128:` números complexos em 128 bits (64 bits para parte real e 64 bits para parte imaginária)."
      ],
      "metadata": {
        "id": "4p7ZKX-VkGeA"
      }
    },
    {
      "cell_type": "markdown",
      "source": [
        "### ***Reshaping***"
      ],
      "metadata": {
        "id": "OUlszIjTVWeJ"
      }
    },
    {
      "cell_type": "markdown",
      "metadata": {
        "id": "HlJ5vj9Gol53"
      },
      "source": [
        "Alterar o shape de uma array é muto fácil com NumPy e muito útil para adequação das matrizes para métodos de machine learning. Contudo, o tamanho (size) não pode ser alterado."
      ]
    },
    {
      "cell_type": "code",
      "metadata": {
        "id": "uXu0PAwgo811",
        "colab": {
          "base_uri": "https://localhost:8080/"
        },
        "outputId": "a0d4860e-cad8-45b0-ba0a-924526490170"
      },
      "source": [
        "# O núemro de dimensões também é chamado de rank\n",
        "g = np.arange(24)\n",
        "print(g)\n",
        "print(\"Rank:\", g.ndim)"
      ],
      "execution_count": 85,
      "outputs": [
        {
          "output_type": "stream",
          "name": "stdout",
          "text": [
            "[ 0  1  2  3  4  5  6  7  8  9 10 11 12 13 14 15 16 17 18 19 20 21 22 23]\n",
            "Rank: 1\n"
          ]
        }
      ]
    },
    {
      "cell_type": "code",
      "metadata": {
        "id": "xRWmC6FUpDHX",
        "colab": {
          "base_uri": "https://localhost:8080/"
        },
        "outputId": "7495f132-4c6b-4a5e-d3aa-0f087c14ec31"
      },
      "source": [
        "g.shape = (6, 4)\n",
        "print(g)\n",
        "print(\"Rank:\", g.ndim)"
      ],
      "execution_count": 86,
      "outputs": [
        {
          "output_type": "stream",
          "name": "stdout",
          "text": [
            "[[ 0  1  2  3]\n",
            " [ 4  5  6  7]\n",
            " [ 8  9 10 11]\n",
            " [12 13 14 15]\n",
            " [16 17 18 19]\n",
            " [20 21 22 23]]\n",
            "Rank: 2\n"
          ]
        }
      ]
    },
    {
      "cell_type": "code",
      "metadata": {
        "id": "mH34bpWSpG9O",
        "colab": {
          "base_uri": "https://localhost:8080/"
        },
        "outputId": "e332c132-5425-4b02-f46b-4b5a13beee0c"
      },
      "source": [
        "g.shape = (2, 3, 4)\n",
        "print(g)\n",
        "print(\"Rank:\", g.ndim)"
      ],
      "execution_count": 87,
      "outputs": [
        {
          "output_type": "stream",
          "name": "stdout",
          "text": [
            "[[[ 0  1  2  3]\n",
            "  [ 4  5  6  7]\n",
            "  [ 8  9 10 11]]\n",
            "\n",
            " [[12 13 14 15]\n",
            "  [16 17 18 19]\n",
            "  [20 21 22 23]]]\n",
            "Rank: 3\n"
          ]
        }
      ]
    },
    {
      "cell_type": "markdown",
      "metadata": {
        "id": "R9nZuFMVpMg7"
      },
      "source": [
        "Mudando o formato do dado (***reshape***)"
      ]
    },
    {
      "cell_type": "code",
      "metadata": {
        "id": "7z_UhY_FpLYl",
        "colab": {
          "base_uri": "https://localhost:8080/"
        },
        "outputId": "ef03c364-645e-4ff7-a864-693eccf45b7c"
      },
      "source": [
        "g2 = g.reshape(4,6)\n",
        "print(g2)\n",
        "print(\"Rank:\", g2.ndim)"
      ],
      "execution_count": 88,
      "outputs": [
        {
          "output_type": "stream",
          "name": "stdout",
          "text": [
            "[[ 0  1  2  3  4  5]\n",
            " [ 6  7  8  9 10 11]\n",
            " [12 13 14 15 16 17]\n",
            " [18 19 20 21 22 23]]\n",
            "Rank: 2\n"
          ]
        }
      ]
    },
    {
      "cell_type": "code",
      "metadata": {
        "id": "_n_4kK7JpRW7",
        "colab": {
          "base_uri": "https://localhost:8080/"
        },
        "outputId": "bdeb6d7a-dfec-4055-e557-425963c8dd06"
      },
      "source": [
        "# Pode-se alterar diretamente um item da matriz, pelo índice\n",
        "g2[1, 2] = 999\n",
        "g2"
      ],
      "execution_count": 89,
      "outputs": [
        {
          "output_type": "execute_result",
          "data": {
            "text/plain": [
              "array([[  0,   1,   2,   3,   4,   5],\n",
              "       [  6,   7, 999,   9,  10,  11],\n",
              "       [ 12,  13,  14,  15,  16,  17],\n",
              "       [ 18,  19,  20,  21,  22,  23]])"
            ]
          },
          "metadata": {},
          "execution_count": 89
        }
      ]
    },
    {
      "cell_type": "markdown",
      "source": [
        "Repare que o objeto `'g'` foi modificado também!"
      ],
      "metadata": {
        "id": "ooR4UMX3Cczq"
      }
    },
    {
      "cell_type": "code",
      "metadata": {
        "id": "gHX2ECfDpYUb",
        "colab": {
          "base_uri": "https://localhost:8080/"
        },
        "outputId": "c2548460-74eb-4f9c-c67f-345f0cf910c4"
      },
      "source": [
        "g"
      ],
      "execution_count": 90,
      "outputs": [
        {
          "output_type": "execute_result",
          "data": {
            "text/plain": [
              "array([[[  0,   1,   2,   3],\n",
              "        [  4,   5,   6,   7],\n",
              "        [999,   9,  10,  11]],\n",
              "\n",
              "       [[ 12,  13,  14,  15],\n",
              "        [ 16,  17,  18,  19],\n",
              "        [ 20,  21,  22,  23]]])"
            ]
          },
          "metadata": {},
          "execution_count": 90
        }
      ]
    },
    {
      "cell_type": "markdown",
      "metadata": {
        "id": "cAxT-zxVps9R"
      },
      "source": [
        "Todas a operçãoes aritméticas comuns podem ser feitas com o *ndarray*"
      ]
    },
    {
      "cell_type": "code",
      "metadata": {
        "id": "9FxqdcOWpz1R",
        "colab": {
          "base_uri": "https://localhost:8080/"
        },
        "outputId": "35d645d5-8649-4fd0-ca14-614fac857bc8"
      },
      "source": [
        "a = np.array([14, 23, 32, 41])\n",
        "b = np.array([5,  4,  3,  2])\n",
        "print(\"a + b  =\", a + b)\n",
        "print(\"a - b  =\", a - b)\n",
        "print(\"a * b  =\", a * b)\n",
        "print(\"a / b  =\", a / b)\n",
        "print(\"a // b  =\", a // b)\n",
        "print(\"a % b  =\", a % b)\n",
        "print(\"a ** b =\", a ** b)"
      ],
      "execution_count": 91,
      "outputs": [
        {
          "output_type": "stream",
          "name": "stdout",
          "text": [
            "a + b  = [19 27 35 43]\n",
            "a - b  = [ 9 19 29 39]\n",
            "a * b  = [70 92 96 82]\n",
            "a / b  = [ 2.8         5.75       10.66666667 20.5       ]\n",
            "a // b  = [ 2  5 10 20]\n",
            "a % b  = [4 3 2 1]\n",
            "a ** b = [537824 279841  32768   1681]\n"
          ]
        }
      ]
    },
    {
      "cell_type": "markdown",
      "metadata": {
        "id": "KvavA4ZLp5Do"
      },
      "source": [
        "Repare que a multiplicação acima **NÃO** é um multiplicação de martizes\n",
        "\n",
        "Arrays devem ter o mesmo shape, caso contrário, NumPy vai aplicar a regra de *broadcasting* (Ver seção 2.1.3 do [livro texto](http://d2l.ai/chapter_preliminaries/ndarray.html)). Pesquise sobre a operação ed bradcasting do NumPy e explique com suas palavras, abaixo:"
      ]
    },
    {
      "cell_type": "markdown",
      "source": [
        "> **ToDo**: Explique o conceito de *broadcasting*.\n",
        "\n",
        "O *broadcasting* no NumPy permite realizar operações entre arrays de shapes diferentes, ajustando automaticamente suas dimensões para que sejam compatíveis. Isso é feito sem copiar dados na memória, tornando as operações mais eficientes. Fonte: https://numpy.org/doc/stable/user/basics.broadcasting.html.\n",
        "\n",
        "**Regras principais:**\n",
        "\n",
        "1. As dimensões são comparadas da direita para a esquerda.\n",
        "\n",
        "2. São compatíveis se forem iguais ou uma delas for 1.\n",
        "\n",
        "3. Arrays com menos dimensões têm dimensões faltantes assumidas como tamanho 1."
      ],
      "metadata": {
        "id": "H8vABCLXkUZJ"
      }
    },
    {
      "cell_type": "markdown",
      "source": [
        "### Iteração e Concatenação de arrays de *NumPy*"
      ],
      "metadata": {
        "id": "6bxKHkldVyvt"
      }
    },
    {
      "cell_type": "markdown",
      "metadata": {
        "id": "KrNWG2EBqokb"
      },
      "source": [
        "Repare que você pode iterar pelos `ndarrays`, e que ela é feita pelos *axis*."
      ]
    },
    {
      "cell_type": "code",
      "metadata": {
        "id": "NufhSS2Cqree",
        "colab": {
          "base_uri": "https://localhost:8080/"
        },
        "outputId": "12d870dd-2c9b-49c0-d13b-19c5a714e042"
      },
      "source": [
        "c = np.arange(24).reshape(2, 3, 4)  # Um array 3D (coposto de duas matrizes de 3x4)\n",
        "c"
      ],
      "execution_count": 92,
      "outputs": [
        {
          "output_type": "execute_result",
          "data": {
            "text/plain": [
              "array([[[ 0,  1,  2,  3],\n",
              "        [ 4,  5,  6,  7],\n",
              "        [ 8,  9, 10, 11]],\n",
              "\n",
              "       [[12, 13, 14, 15],\n",
              "        [16, 17, 18, 19],\n",
              "        [20, 21, 22, 23]]])"
            ]
          },
          "metadata": {},
          "execution_count": 92
        }
      ]
    },
    {
      "cell_type": "code",
      "metadata": {
        "id": "Kuyq7oUjp4vg",
        "colab": {
          "base_uri": "https://localhost:8080/"
        },
        "outputId": "ef344bc6-eb41-4da5-c151-0d8202b44a03"
      },
      "source": [
        "for m in c:\n",
        "    print(\"Item:\")\n",
        "    print(m)"
      ],
      "execution_count": 93,
      "outputs": [
        {
          "output_type": "stream",
          "name": "stdout",
          "text": [
            "Item:\n",
            "[[ 0  1  2  3]\n",
            " [ 4  5  6  7]\n",
            " [ 8  9 10 11]]\n",
            "Item:\n",
            "[[12 13 14 15]\n",
            " [16 17 18 19]\n",
            " [20 21 22 23]]\n"
          ]
        }
      ]
    },
    {
      "cell_type": "code",
      "metadata": {
        "id": "rS5NbTS2rArD",
        "colab": {
          "base_uri": "https://localhost:8080/"
        },
        "outputId": "6e1a4b7e-59b2-4956-a374-b1299092600d"
      },
      "source": [
        "for i in range(len(c)):  # Observe que len(c) == c.shape[0]\n",
        "    print(\"Item:\")\n",
        "    print(c[i])"
      ],
      "execution_count": 94,
      "outputs": [
        {
          "output_type": "stream",
          "name": "stdout",
          "text": [
            "Item:\n",
            "[[ 0  1  2  3]\n",
            " [ 4  5  6  7]\n",
            " [ 8  9 10 11]]\n",
            "Item:\n",
            "[[12 13 14 15]\n",
            " [16 17 18 19]\n",
            " [20 21 22 23]]\n"
          ]
        }
      ]
    },
    {
      "cell_type": "code",
      "metadata": {
        "id": "hXMSTO3MrDP4",
        "colab": {
          "base_uri": "https://localhost:8080/"
        },
        "outputId": "ad7661ac-83fd-4227-de0a-609b97b172fa"
      },
      "source": [
        "# Para iterar por todos os elementos\n",
        "for i in c.flat:\n",
        "    print(\"Item:\", i)"
      ],
      "execution_count": 95,
      "outputs": [
        {
          "output_type": "stream",
          "name": "stdout",
          "text": [
            "Item: 0\n",
            "Item: 1\n",
            "Item: 2\n",
            "Item: 3\n",
            "Item: 4\n",
            "Item: 5\n",
            "Item: 6\n",
            "Item: 7\n",
            "Item: 8\n",
            "Item: 9\n",
            "Item: 10\n",
            "Item: 11\n",
            "Item: 12\n",
            "Item: 13\n",
            "Item: 14\n",
            "Item: 15\n",
            "Item: 16\n",
            "Item: 17\n",
            "Item: 18\n",
            "Item: 19\n",
            "Item: 20\n",
            "Item: 21\n",
            "Item: 22\n",
            "Item: 23\n"
          ]
        }
      ]
    },
    {
      "cell_type": "markdown",
      "metadata": {
        "id": "1RznKDthrLfn"
      },
      "source": [
        "Também é possível concatenar `ndarrays`, e isso pode ser feito em um eixo específico."
      ]
    },
    {
      "cell_type": "code",
      "metadata": {
        "id": "WRQVwQxnrM-f",
        "colab": {
          "base_uri": "https://localhost:8080/"
        },
        "outputId": "6fd8e26b-32a6-425c-b2ae-075d5df37a9b"
      },
      "source": [
        "# Pode-se concatenar arrays pelos axis\n",
        "q1 = np.full((3,4), 1.0)\n",
        "\n",
        "q2 = np.full((4,4), 2.0)\n",
        "\n",
        "q3 = np.full((3,4), 3.0)\n",
        "\n",
        "q = np.concatenate((q1, q2, q3), axis=0)\n",
        "\n",
        "q"
      ],
      "execution_count": 96,
      "outputs": [
        {
          "output_type": "execute_result",
          "data": {
            "text/plain": [
              "array([[1., 1., 1., 1.],\n",
              "       [1., 1., 1., 1.],\n",
              "       [1., 1., 1., 1.],\n",
              "       [2., 2., 2., 2.],\n",
              "       [2., 2., 2., 2.],\n",
              "       [2., 2., 2., 2.],\n",
              "       [2., 2., 2., 2.],\n",
              "       [3., 3., 3., 3.],\n",
              "       [3., 3., 3., 3.],\n",
              "       [3., 3., 3., 3.]])"
            ]
          },
          "metadata": {},
          "execution_count": 96
        }
      ]
    },
    {
      "cell_type": "code",
      "source": [
        "# ToDo: imprima o shape resultante da concatenação dos arrays de shape a = (2, 3, 4) e b = (2, 3, 4) em cada eixo separadamente\n",
        "a = np.full((2, 3, 4), 1.0)\n",
        "b = np.full((2, 3, 4), 2.0)\n",
        "print(np.concatenate((a, b), axis=0).shape)\n",
        "print(np.concatenate((a, b), axis=1).shape)\n",
        "print(np.concatenate((a, b), axis=2).shape)"
      ],
      "metadata": {
        "id": "oP16-SvolCPR",
        "colab": {
          "base_uri": "https://localhost:8080/"
        },
        "outputId": "840fd987-ce80-4665-c508-9c44b27f1151"
      },
      "execution_count": 97,
      "outputs": [
        {
          "output_type": "stream",
          "name": "stdout",
          "text": [
            "(4, 3, 4)\n",
            "(2, 6, 4)\n",
            "(2, 3, 8)\n"
          ]
        }
      ]
    },
    {
      "cell_type": "markdown",
      "metadata": {
        "id": "s3XuK6yLrgBk"
      },
      "source": [
        "### Transposta\n"
      ]
    },
    {
      "cell_type": "code",
      "metadata": {
        "id": "q7dSfS0zrhVi",
        "colab": {
          "base_uri": "https://localhost:8080/"
        },
        "outputId": "1b22626f-6504-455e-92a7-145242ea2766"
      },
      "source": [
        "m1 = np.arange(10).reshape(2,5)\n",
        "m1"
      ],
      "execution_count": 98,
      "outputs": [
        {
          "output_type": "execute_result",
          "data": {
            "text/plain": [
              "array([[0, 1, 2, 3, 4],\n",
              "       [5, 6, 7, 8, 9]])"
            ]
          },
          "metadata": {},
          "execution_count": 98
        }
      ]
    },
    {
      "cell_type": "code",
      "metadata": {
        "id": "B6R2PFoirpKd",
        "colab": {
          "base_uri": "https://localhost:8080/"
        },
        "outputId": "162a118d-b1b4-4152-bae7-4eb140eae546"
      },
      "source": [
        "# ToDo : imprima a matriz transposta de m1\n",
        "m1.T"
      ],
      "execution_count": 99,
      "outputs": [
        {
          "output_type": "execute_result",
          "data": {
            "text/plain": [
              "array([[0, 5],\n",
              "       [1, 6],\n",
              "       [2, 7],\n",
              "       [3, 8],\n",
              "       [4, 9]])"
            ]
          },
          "metadata": {},
          "execution_count": 99
        }
      ]
    },
    {
      "cell_type": "markdown",
      "metadata": {
        "id": "pgGS5pqJr9lR"
      },
      "source": [
        "### Produto de matrizes"
      ]
    },
    {
      "cell_type": "code",
      "metadata": {
        "id": "TGqupKabr-yf",
        "colab": {
          "base_uri": "https://localhost:8080/"
        },
        "outputId": "0617fcbc-9682-447c-9537-b68400b57cbd"
      },
      "source": [
        "n1 = np.arange(10).reshape(2, 5)\n",
        "n1"
      ],
      "execution_count": 100,
      "outputs": [
        {
          "output_type": "execute_result",
          "data": {
            "text/plain": [
              "array([[0, 1, 2, 3, 4],\n",
              "       [5, 6, 7, 8, 9]])"
            ]
          },
          "metadata": {},
          "execution_count": 100
        }
      ]
    },
    {
      "cell_type": "code",
      "metadata": {
        "id": "pp96FkvQsAlh",
        "colab": {
          "base_uri": "https://localhost:8080/"
        },
        "outputId": "3df46ff7-2374-4933-b79b-61f796bd4dee"
      },
      "source": [
        "n2 = np.arange(15).reshape(5, 3)\n",
        "n2"
      ],
      "execution_count": 101,
      "outputs": [
        {
          "output_type": "execute_result",
          "data": {
            "text/plain": [
              "array([[ 0,  1,  2],\n",
              "       [ 3,  4,  5],\n",
              "       [ 6,  7,  8],\n",
              "       [ 9, 10, 11],\n",
              "       [12, 13, 14]])"
            ]
          },
          "metadata": {},
          "execution_count": 101
        }
      ]
    },
    {
      "cell_type": "code",
      "metadata": {
        "id": "2d1Ds0AVsDa7",
        "colab": {
          "base_uri": "https://localhost:8080/"
        },
        "outputId": "9ca4238a-620e-4b1d-ed7b-3d97b6697739"
      },
      "source": [
        "n1.dot(n2)"
      ],
      "execution_count": 102,
      "outputs": [
        {
          "output_type": "execute_result",
          "data": {
            "text/plain": [
              "array([[ 90, 100, 110],\n",
              "       [240, 275, 310]])"
            ]
          },
          "metadata": {},
          "execution_count": 102
        }
      ]
    },
    {
      "cell_type": "code",
      "source": [
        "# ToDo: Crie um array de 1 a 25 com shape (5, 5) e faça a multiplicação por uma matriz de zeros de (5, 1).\n",
        "a = np.arange(1, 26).reshape(5, 5)\n",
        "b = np.zeros((5, 1))\n",
        "c = a @ b # multiplicação matricial\n",
        "\n",
        "print(\"a =\\n\", a)\n",
        "print(\"b =\\n\", b)\n",
        "print(\"c =\\n\", c)"
      ],
      "metadata": {
        "id": "i-gOiMYUljXq",
        "colab": {
          "base_uri": "https://localhost:8080/"
        },
        "outputId": "0dfec077-5b07-45a3-d699-14b5e47d3b3e"
      },
      "execution_count": 103,
      "outputs": [
        {
          "output_type": "stream",
          "name": "stdout",
          "text": [
            "a =\n",
            " [[ 1  2  3  4  5]\n",
            " [ 6  7  8  9 10]\n",
            " [11 12 13 14 15]\n",
            " [16 17 18 19 20]\n",
            " [21 22 23 24 25]]\n",
            "b =\n",
            " [[0.]\n",
            " [0.]\n",
            " [0.]\n",
            " [0.]\n",
            " [0.]]\n",
            "c =\n",
            " [[0.]\n",
            " [0.]\n",
            " [0.]\n",
            " [0.]\n",
            " [0.]]\n"
          ]
        }
      ]
    },
    {
      "cell_type": "markdown",
      "metadata": {
        "id": "frQ6zLAsx1pt"
      },
      "source": [
        "### Matriz Inversa"
      ]
    },
    {
      "cell_type": "code",
      "metadata": {
        "id": "gyUBiYy8x4Zb",
        "colab": {
          "base_uri": "https://localhost:8080/"
        },
        "outputId": "ebb9aec5-cf9d-4c19-9fb3-b6c78d4b18ac"
      },
      "source": [
        "import numpy.linalg as linalg\n",
        "\n",
        "m3 = np.array([[1,2,3],[5,7,11],[21,29,31]])\n",
        "\n",
        "m3"
      ],
      "execution_count": 104,
      "outputs": [
        {
          "output_type": "execute_result",
          "data": {
            "text/plain": [
              "array([[ 1,  2,  3],\n",
              "       [ 5,  7, 11],\n",
              "       [21, 29, 31]])"
            ]
          },
          "metadata": {},
          "execution_count": 104
        }
      ]
    },
    {
      "cell_type": "code",
      "metadata": {
        "id": "Fmofch4Nx6rG",
        "colab": {
          "base_uri": "https://localhost:8080/"
        },
        "outputId": "3059d0f3-3d7c-4c92-8dea-3e9699e269e0"
      },
      "source": [
        "linalg.inv(m3)"
      ],
      "execution_count": 105,
      "outputs": [
        {
          "output_type": "execute_result",
          "data": {
            "text/plain": [
              "array([[-2.31818182,  0.56818182,  0.02272727],\n",
              "       [ 1.72727273, -0.72727273,  0.09090909],\n",
              "       [-0.04545455,  0.29545455, -0.06818182]])"
            ]
          },
          "metadata": {},
          "execution_count": 105
        }
      ]
    },
    {
      "cell_type": "markdown",
      "source": [
        "> **ToDo**: O que a função `linalg.inv` faz?\n",
        "\n",
        "A função `np.linalg.inv` calcula a matriz inversa de uma matriz quadrada $A$, ou seja, retorna uma matriz $B$ tal que $A \\cdot B = I$, onde $I$ é a matriz identidade."
      ],
      "metadata": {
        "id": "0ZG2aSg3l3nF"
      }
    },
    {
      "cell_type": "markdown",
      "metadata": {
        "id": "akbN2w1yyAs0"
      },
      "source": [
        "### Matriz identidade"
      ]
    },
    {
      "cell_type": "code",
      "metadata": {
        "id": "XCdstJwQx_4J",
        "colab": {
          "base_uri": "https://localhost:8080/"
        },
        "outputId": "5736a962-0b2f-4fcc-e718-b8615904311b"
      },
      "source": [
        "m3.dot(linalg.inv(m3))"
      ],
      "execution_count": 106,
      "outputs": [
        {
          "output_type": "execute_result",
          "data": {
            "text/plain": [
              "array([[ 1.00000000e+00, -1.66533454e-16,  0.00000000e+00],\n",
              "       [ 6.31439345e-16,  1.00000000e+00, -1.38777878e-16],\n",
              "       [ 5.21110932e-15, -2.38697950e-15,  1.00000000e+00]])"
            ]
          },
          "metadata": {},
          "execution_count": 106
        }
      ]
    },
    {
      "cell_type": "code",
      "source": [
        "# ToDo: Crie uma matriz identidade de tamanho (5, 5)\n",
        "np.identity(5)"
      ],
      "metadata": {
        "id": "8Sw8Vp9-m2Ue",
        "colab": {
          "base_uri": "https://localhost:8080/"
        },
        "outputId": "0f71792e-77b2-457d-88f8-fffb21d1f0e9"
      },
      "execution_count": 107,
      "outputs": [
        {
          "output_type": "execute_result",
          "data": {
            "text/plain": [
              "array([[1., 0., 0., 0., 0.],\n",
              "       [0., 1., 0., 0., 0.],\n",
              "       [0., 0., 1., 0., 0.],\n",
              "       [0., 0., 0., 1., 0.],\n",
              "       [0., 0., 0., 0., 1.]])"
            ]
          },
          "metadata": {},
          "execution_count": 107
        }
      ]
    },
    {
      "cell_type": "markdown",
      "source": [
        "# Produto Interno (Dot Product)\n",
        "\n",
        "O produto interno de dois vetores, é uma operação que resulta em um único número escalar. Geometricamente, ele está relacionado ao comprimento dos vetores e ao ângulo entre eles. Em machine learning, o produto interno é a base para o cálculo de similaridades (como a similaridade de cosseno) e é a operação central nas camadas densamente conectadas das redes neurais."
      ],
      "metadata": {
        "id": "-TBfwXCn3Q1R"
      }
    },
    {
      "cell_type": "code",
      "source": [
        "v1, v2 = np.array([1, 2, 3, 4]), np.array([5, 6, 7, 8])\n",
        "\n",
        "# Exemplo de produto interno usando np.dot()\n",
        "prod_interno_dot = np.dot(v1, v2)\n",
        "print(\"Produto interno (np.dot):\", prod_interno_dot)\n",
        "\n",
        "\n",
        "# ToDo: Verifique se o produto interno entre os dois vetores é o mesmo em ambos os casos.\n",
        "# O resultado deve ser (1*4) + (2*5) + (3*6) = 4 + 10 + 18 = 32\n",
        "v1, v2 = np.array([1, 2, 3]), np.array([4, 5, 6])\n",
        "print(\"Produto interno (np.dot):\", np.dot(v1, v2))"
      ],
      "metadata": {
        "id": "DnOQJSNZ3czn",
        "colab": {
          "base_uri": "https://localhost:8080/"
        },
        "outputId": "486ff201-742f-4ada-b1c1-49044c7a7e97"
      },
      "execution_count": 108,
      "outputs": [
        {
          "output_type": "stream",
          "name": "stdout",
          "text": [
            "Produto interno (np.dot): 70\n",
            "Produto interno (np.dot): 32\n"
          ]
        }
      ]
    },
    {
      "cell_type": "markdown",
      "source": [
        "O produto interno também está relacionado à norma (comprimento) de um vetor:\n",
        "$$ \\|\\mathbf{a}\\| = \\sqrt{\\mathbf{a} \\cdot \\mathbf{a}} $$"
      ],
      "metadata": {
        "id": "ZN1DxBWU4CzM"
      }
    },
    {
      "cell_type": "code",
      "source": [
        "# ToDo: Calcule a norma do vetor v1.\n",
        "# Dica: Use a função np.sqrt() para a raiz quadrada.\n",
        "# O resultado deve ser sqrt(1^2 + 2^2 + 3^2) = sqrt(14) ~= 3.74\n",
        "\n",
        "norma_v1 = np.sqrt(np.dot(v1, v1))\n",
        "print(\"Norma do vetor v1:\", norma_v1)"
      ],
      "metadata": {
        "id": "o-WxFpZD4Db2",
        "colab": {
          "base_uri": "https://localhost:8080/"
        },
        "outputId": "57ae30a6-d6ac-4a09-86a7-5d0ef2721449"
      },
      "execution_count": 109,
      "outputs": [
        {
          "output_type": "stream",
          "name": "stdout",
          "text": [
            "Norma do vetor v1: 3.7416573867739413\n"
          ]
        }
      ]
    },
    {
      "cell_type": "markdown",
      "source": [
        "Usando a definição de produto interno, podemos encontrar o ângulo entre os vetores:\n",
        "$$ \\cos(\\theta) = \\frac{\\mathbf{a} \\cdot \\mathbf{b}}{\\|\\mathbf{a}\\| \\|\\mathbf{b}\\|} $$"
      ],
      "metadata": {
        "id": "D_-u4P3P4Lw6"
      }
    },
    {
      "cell_type": "code",
      "source": [
        "# ToDo: Calcule o cosseno do ângulo entre os vetores v1 e v2.\n",
        "# Use o produto interno e as normas calculadas.\n",
        "\n",
        "prod_interno_v1_v2 = np.dot(v1, v2) # Use np.dot(v1, v2)\n",
        "norma_v1 = np.sqrt(np.dot(v1, v1))\n",
        "norma_v2 = np.sqrt(np.dot(v2, v2))\n",
        "\n",
        "cos_theta = prod_interno_v1_v2 / (norma_v1 * norma_v2)\n",
        "print(\"Cosseno do ângulo entre v1 e v2:\", cos_theta)"
      ],
      "metadata": {
        "id": "bvPg28ph4NSu",
        "colab": {
          "base_uri": "https://localhost:8080/"
        },
        "outputId": "33cb3447-d6ea-4825-d29b-1841cf49026d"
      },
      "execution_count": 110,
      "outputs": [
        {
          "output_type": "stream",
          "name": "stdout",
          "text": [
            "Cosseno do ângulo entre v1 e v2: 0.9746318461970762\n"
          ]
        }
      ]
    },
    {
      "cell_type": "markdown",
      "source": [
        "> **ToDo**: O que você pode dizer sobre o produto interno entre dois vetores? E qual a relação entre o resultado do produto interno e a similaridade de cosseno entre eles?\n",
        "\n",
        "O produto interno (ou escalar) entre dois vetores $\\mathbf{u}$ e $\\mathbf{v}$ é definido como a soma dos produtos de suas componentes:\n",
        "\n",
        "$$\n",
        "\\mathbf{u} \\cdot \\mathbf{v} = \\sum_i u_i v_i\n",
        "$$\n",
        "\n",
        "Ele mede o quanto os vetores estão alinhados na mesma direção.\n",
        "\n",
        "A similaridade de cosseno entre dois vetores é o produto interno normalizado pelos comprimentos dos vetores:\n",
        "\n",
        "$$\n",
        "\\cos(\\theta) = \\frac{\\mathbf{u} \\cdot \\mathbf{v}}{\\|\\mathbf{u}\\| \\|\\mathbf{v}\\|}\n",
        "$$\n",
        "\n",
        "Ou seja, quanto maior o produto interno relativo aos comprimentos dos vetores, maior a similaridade de direção entre eles.\n",
        "\n",
        "Fonte: Mathematical Methods for Physicists - Arfken, Harris & Weber - 7th Edition\n"
      ],
      "metadata": {
        "id": "07hMWYpmbsSg"
      }
    },
    {
      "cell_type": "markdown",
      "source": [
        "# PyTorch"
      ],
      "metadata": {
        "id": "OJcNmoNJ4S-h"
      }
    },
    {
      "cell_type": "code",
      "source": [
        "# ToDo: Repitir TODOS OS TESTES ACIMA com o objeto ndarray do Pytorch\n",
        "\n",
        "import torch\n",
        "\n",
        "# =========================\n",
        "#   Criação de tensores\n",
        "# =========================\n",
        "zeros = torch.zeros((3, 3))\n",
        "ones = torch.ones((2, 4))\n",
        "full = torch.full((2, 2), 7)\n",
        "empty = torch.empty((2, 3))\n",
        "\n",
        "print(\"Zeros:\\n\", zeros)\n",
        "print(\"Ones:\\n\", ones)\n",
        "print(\"Full:\\n\", full)\n",
        "print(\"Empty (conteúdo aleatório):\\n\", empty)\n",
        "\n",
        "\n",
        "print()\n",
        "\n",
        "# =========================\n",
        "#      Arange / Range\n",
        "# =========================\n",
        "arange1 = torch.arange(0, 5, step=1)\n",
        "arange2 = torch.arange(1, 5, step=0.5)\n",
        "\n",
        "print(\"Arange1:\", arange1)\n",
        "print(\"Arange2:\", arange2)\n",
        "\n",
        "print()\n",
        "\n",
        "# =========================\n",
        "#    Números aleatórios\n",
        "# =========================\n",
        "rand_uniforme = torch.rand((2, 3))      # uniforme [0,1)\n",
        "rand_normal = torch.randn((2, 3))       # normal padrão\n",
        "\n",
        "print(\"Uniforme:\\n\", rand_uniforme)\n",
        "print(\"Normal:\\n\", rand_normal)\n",
        "\n",
        "print()\n",
        "\n",
        "# =========================\n",
        "#   Propriedades do tensor\n",
        "# =========================\n",
        "tensor = torch.rand((3, 4))\n",
        "print(\"Shape:\", tensor.shape)\n",
        "print(\"Número de dimensões (ndim):\", tensor.ndim)\n",
        "print(\"Número de elementos (numel):\", tensor.numel())\n",
        "print(\"Tipo (dtype):\", tensor.dtype)\n",
        "print(\"Bytes por elemento (element_size):\", tensor.element_size())\n",
        "\n",
        "print()\n",
        "\n",
        "# =========================\n",
        "# Tipos de dados diferentes\n",
        "# =========================\n",
        "t_int = torch.tensor([1, 2, 3], dtype=torch.int64)\n",
        "t_float = torch.tensor([1.0, 2.0, 3.0], dtype=torch.float32)\n",
        "t_complex = torch.tensor([1+2j, 3+4j], dtype=torch.complex64)\n",
        "\n",
        "print(\"Int64:\", t_int)\n",
        "print(\"Float32:\", t_float)\n",
        "print(\"Complex64:\", t_complex)\n",
        "\n",
        "print()\n",
        "\n",
        "# =========================\n",
        "#   Reshape e transposição\n",
        "# =========================\n",
        "a = torch.arange(6)\n",
        "a_reshaped = a.reshape((2, 3))\n",
        "a_transposed = a_reshaped.T\n",
        "\n",
        "print(\"Original:\", a)\n",
        "print(\"Reshape 2x3:\\n\", a_reshaped)\n",
        "print(\"Transposta:\\n\", a_transposed)\n",
        "\n",
        "print()\n",
        "\n",
        "# =========================\n",
        "#   Operações aritméticas\n",
        "# =========================\n",
        "a = torch.tensor([1, 2, 3])\n",
        "b = torch.tensor([4, 5, 6])\n",
        "\n",
        "print(\"Soma:\", a + b)\n",
        "print(\"Subtração:\", a - b)\n",
        "print(\"Multiplicação:\", a * b)\n",
        "print(\"Divisão:\", a / b)\n",
        "print(\"Divisão inteira:\", a // b)\n",
        "print(\"Resto:\", a % b)\n",
        "print(\"Exponenciação:\", a ** 2)\n",
        "\n",
        "print()\n",
        "\n",
        "# =========================\n",
        "#       Broadcasting\n",
        "# =========================\n",
        "x = torch.ones((2, 3))\n",
        "y = torch.tensor([1, 2, 3])\n",
        "print(\"Broadcast (x + y):\\n\", x + y)\n",
        "\n",
        "print()\n",
        "\n",
        "# =========================\n",
        "#  Iteração e concatenação\n",
        "# =========================\n",
        "for row in x:\n",
        "    print(\"Iteração linha:\", row)\n",
        "\n",
        "concat = torch.cat((x, x), dim=0)\n",
        "print(\"Concatenação na dimensão 0:\\n\", concat)\n",
        "\n",
        "print()\n",
        "\n",
        "# ================================\n",
        "# Produto de matrizes e identidade\n",
        "# ================================\n",
        "A = torch.rand((2, 3))\n",
        "B = torch.rand((3, 2))\n",
        "C = torch.matmul(A, B)   # ou A @ B\n",
        "\n",
        "I = torch.eye(3)         # matriz identidade 3x3\n",
        "\n",
        "print(\"Produto de matrizes A @ B:\\n\", C)\n",
        "print(\"Matriz identidade 3x3:\\n\", I)\n",
        "\n",
        "print()\n",
        "\n",
        "# =========================\n",
        "#     Matriz inversa\n",
        "# =========================\n",
        "M = torch.rand((3, 3))\n",
        "inv_M = torch.linalg.inv(M)\n",
        "print(\"Matriz M:\\n\", M)\n",
        "print(\"Inversa de M:\\n\", inv_M)\n",
        "\n",
        "print()\n",
        "\n",
        "# ==============================\n",
        "#  Produto interno (dot product)\n",
        "# ==============================\n",
        "v1, v2 = torch.tensor([1, 2, 3]), torch.tensor([4, 5, 6])\n",
        "prod_interno_dot = torch.dot(v1, v2)\n",
        "print(\"Produto interno (torch.dot):\", prod_interno_dot.item())\n",
        "\n",
        "print()\n",
        "\n",
        "# =========================\n",
        "#       Norma do vetor\n",
        "# =========================\n",
        "norma_v1 = torch.sqrt(torch.dot(v1, v1).float())\n",
        "print(\"Norma do vetor v1:\", norma_v1.item())\n",
        "\n",
        "print()\n",
        "\n",
        "# ====================================\n",
        "# Cosseno do ângulo entre dois vetores\n",
        "# ====================================\n",
        "prod_interno_v1_v2 = torch.dot(v1, v2).float()\n",
        "norma_v2 = torch.sqrt(torch.dot(v2, v2).float())\n",
        "cos_theta = prod_interno_v1_v2 / (norma_v1 * norma_v2)\n",
        "print(\"Cosseno do ângulo entre v1 e v2:\", cos_theta.item())"
      ],
      "metadata": {
        "id": "EpdMpWT1_8w1",
        "colab": {
          "base_uri": "https://localhost:8080/"
        },
        "outputId": "08907075-8cd4-4904-c28b-a7277836c01a"
      },
      "execution_count": 111,
      "outputs": [
        {
          "output_type": "stream",
          "name": "stdout",
          "text": [
            "Zeros:\n",
            " tensor([[0., 0., 0.],\n",
            "        [0., 0., 0.],\n",
            "        [0., 0., 0.]])\n",
            "Ones:\n",
            " tensor([[1., 1., 1., 1.],\n",
            "        [1., 1., 1., 1.]])\n",
            "Full:\n",
            " tensor([[7, 7],\n",
            "        [7, 7]])\n",
            "Empty (conteúdo aleatório):\n",
            " tensor([[4.2418e-40, 0.0000e+00,        nan],\n",
            "        [       nan, 1.7937e-43, 0.0000e+00]])\n",
            "\n",
            "Arange1: tensor([0, 1, 2, 3, 4])\n",
            "Arange2: tensor([1.0000, 1.5000, 2.0000, 2.5000, 3.0000, 3.5000, 4.0000, 4.5000])\n",
            "\n",
            "Uniforme:\n",
            " tensor([[0.3215, 0.3817, 0.1041],\n",
            "        [0.0216, 0.8489, 0.1315]])\n",
            "Normal:\n",
            " tensor([[ 1.0984,  0.0939,  1.2362],\n",
            "        [-0.9964,  0.1367,  1.8188]])\n",
            "\n",
            "Shape: torch.Size([3, 4])\n",
            "Número de dimensões (ndim): 2\n",
            "Número de elementos (numel): 12\n",
            "Tipo (dtype): torch.float32\n",
            "Bytes por elemento (element_size): 4\n",
            "\n",
            "Int64: tensor([1, 2, 3])\n",
            "Float32: tensor([1., 2., 3.])\n",
            "Complex64: tensor([1.+2.j, 3.+4.j])\n",
            "\n",
            "Original: tensor([0, 1, 2, 3, 4, 5])\n",
            "Reshape 2x3:\n",
            " tensor([[0, 1, 2],\n",
            "        [3, 4, 5]])\n",
            "Transposta:\n",
            " tensor([[0, 3],\n",
            "        [1, 4],\n",
            "        [2, 5]])\n",
            "\n",
            "Soma: tensor([5, 7, 9])\n",
            "Subtração: tensor([-3, -3, -3])\n",
            "Multiplicação: tensor([ 4, 10, 18])\n",
            "Divisão: tensor([0.2500, 0.4000, 0.5000])\n",
            "Divisão inteira: tensor([0, 0, 0])\n",
            "Resto: tensor([1, 2, 3])\n",
            "Exponenciação: tensor([1, 4, 9])\n",
            "\n",
            "Broadcast (x + y):\n",
            " tensor([[2., 3., 4.],\n",
            "        [2., 3., 4.]])\n",
            "\n",
            "Iteração linha: tensor([1., 1., 1.])\n",
            "Iteração linha: tensor([1., 1., 1.])\n",
            "Concatenação na dimensão 0:\n",
            " tensor([[1., 1., 1.],\n",
            "        [1., 1., 1.],\n",
            "        [1., 1., 1.],\n",
            "        [1., 1., 1.]])\n",
            "\n",
            "Produto de matrizes A @ B:\n",
            " tensor([[0.4892, 1.2502],\n",
            "        [0.4787, 0.6303]])\n",
            "Matriz identidade 3x3:\n",
            " tensor([[1., 0., 0.],\n",
            "        [0., 1., 0.],\n",
            "        [0., 0., 1.]])\n",
            "\n",
            "Matriz M:\n",
            " tensor([[0.5166, 0.3791, 0.9449],\n",
            "        [0.8597, 0.7151, 0.7638],\n",
            "        [0.3361, 0.2550, 0.2228]])\n",
            "Inversa de M:\n",
            " tensor([[  2.6150, -11.5407,  28.4773],\n",
            "        [ -4.8076,  14.9344, -30.8124],\n",
            "        [  1.5576,   0.3176,  -3.2067]])\n",
            "\n",
            "Produto interno (torch.dot): 32\n",
            "\n",
            "Norma do vetor v1: 3.7416574954986572\n",
            "\n",
            "Cosseno do ângulo entre v1 e v2: 0.9746317863464355\n"
          ]
        }
      ]
    },
    {
      "cell_type": "markdown",
      "source": [
        "# Regressão linear com pytorch\n",
        "\n",
        "\n",
        "\n",
        "Utilize o **dataset Diabetes** do `scikit-learn` para resolver um problema de **regressão linear** em **PyTorch**.\n",
        "\n",
        "1. Carregue e normalize os dados.\n",
        "2. Resolva o problema de duas formas:\n",
        "\n",
        "   * **(a)** Usando a solução analítica (equação normal ou pseudo-inversa) apenas com tensores.\n",
        "   * **(b)** Treinando um modelo `nn.Linear` com gradiente descendente.\n",
        "3. Compare os resultados obtidos (MSE e $R^2$) e discuta a diferença entre os pesos encontrados nos dois métodos.\n",
        "\n",
        "Sugestão de leitura: [Capítulo 3 do livro texto](https://d2l.ai/chapter_linear-regression/index.html).\n",
        "\n"
      ],
      "metadata": {
        "id": "C2uIubKSnCM7"
      }
    },
    {
      "cell_type": "code",
      "source": [
        "# %% ------------------------------------------------------------\n",
        "# Regressão no Diabetes (scikit-learn) com PyTorch\n",
        "# A) Solução analítica (pseudo-inversa)\n",
        "# B) Treinamento com gradiente (nn.Linear)\n",
        "# --------------------------------------------------------------\n",
        "import torch\n",
        "import torch.nn as nn\n",
        "import torch.optim as optim\n",
        "from sklearn.datasets import load_diabetes\n",
        "from sklearn.model_selection import train_test_split\n",
        "from sklearn.preprocessing import StandardScaler\n",
        "from sklearn.metrics import mean_squared_error, r2_score\n",
        "import matplotlib.pyplot as plt\n",
        "import seaborn as sns\n",
        "\n",
        "# Dispositivo (usa GPU se disponível)\n",
        "device = torch.device(\"cuda\" if torch.cuda.is_available() else \"cpu\")\n",
        "\n",
        "# 1) Carregar dados do dataset Diabetes\n",
        "X_np, y_np = load_diabetes(return_X_y=True)  # X: (442,10), y: (442,)\n",
        "\n",
        "# 2) Dividir dados em treino e teste\n",
        "X_tr, X_te, y_tr, y_te = train_test_split(X_np, y_np, test_size=0.2, random_state=42)\n",
        "\n",
        "# 3) Normalização dos dados (média 0 e desvio padrão 1)\n",
        "scaler = StandardScaler()\n",
        "X_tr = scaler.fit_transform(X_tr)\n",
        "X_te = scaler.transform(X_te)\n",
        "\n",
        "# 4) Conversão para tensores do PyTorch (e envio para GPU se disponível)\n",
        "X_tr_t = torch.tensor(X_tr, dtype=torch.float32, device=device)\n",
        "X_te_t = torch.tensor(X_te, dtype=torch.float32, device=device)\n",
        "y_tr_t = torch.tensor(y_tr, dtype=torch.float32, device=device).view(-1, 1)\n",
        "y_te_t = torch.tensor(y_te, dtype=torch.float32, device=device).view(-1, 1)\n",
        "\n",
        "# =======================================================\n",
        "# A) Solução analítica (pseudo-inversa)\n",
        "# =======================================================\n",
        "# Adiciona coluna de 1s para o bias (intercepto)\n",
        "X_tr_bias = torch.cat([torch.ones(X_tr_t.shape[0], 1, device=device), X_tr_t], dim=1)\n",
        "X_te_bias = torch.cat([torch.ones(X_te_t.shape[0], 1, device=device), X_te_t], dim=1)\n",
        "\n",
        "# Calcula os pesos usando pseudo-inversa (equação normal)\n",
        "w_analytical = torch.linalg.pinv(X_tr_bias) @ y_tr_t\n",
        "\n",
        "# Faz predição nos dados de teste\n",
        "y_pred_analytical = X_te_bias @ w_analytical\n",
        "\n",
        "# Calcula métricas de erro e ajuste\n",
        "mse_a = mean_squared_error(y_te, y_pred_analytical.cpu().detach().numpy())\n",
        "r2_a = r2_score(y_te, y_pred_analytical.cpu().detach().numpy())\n",
        "\n",
        "# =======================================================\n",
        "# B) Regressão Linear com nn.Linear + SGD\n",
        "# =======================================================\n",
        "# Cria modelo linear\n",
        "model = nn.Linear(X_tr_t.shape[1], 1).to(device)\n",
        "\n",
        "# Define função de perda e otimizador\n",
        "criterion = nn.MSELoss()\n",
        "optimizer = optim.SGD(model.parameters(), lr=0.01)\n",
        "\n",
        "# Treinamento do modelo\n",
        "epochs = 1000\n",
        "for epoch in range(epochs):\n",
        "    # Predição nos dados de treino\n",
        "    y_pred = model(X_tr_t)\n",
        "    # Calcula a perda\n",
        "    loss = criterion(y_pred, y_tr_t)\n",
        "\n",
        "    # Backpropagation\n",
        "    optimizer.zero_grad()\n",
        "    loss.backward()\n",
        "    optimizer.step()\n",
        "\n",
        "# Predição nos dados de teste após treinamento\n",
        "y_pred_model = model(X_te_t).detach().cpu().numpy()\n",
        "\n",
        "# Calcula métricas de erro e ajuste\n",
        "mse_b = mean_squared_error(y_te, y_pred_model)\n",
        "r2_b = r2_score(y_te, y_pred_model)\n",
        "\n",
        "# =======================================================\n",
        "# Comparação dos resultados\n",
        "# =======================================================\n",
        "print(\"=== Solução Analítica ===\")\n",
        "print(f\"MSE: {mse_a:.4f}\")\n",
        "print(f\"R² : {r2_a:.4f}\")\n",
        "\n",
        "print(\"\\n=== Regressão Treinada ===\")\n",
        "print(f\"MSE: {mse_b:.4f}\")\n",
        "print(f\"R² : {r2_b:.4f}\")\n",
        "\n",
        "print(\"\\n=== Comparação dos pesos ===\")\n",
        "# Mostra os primeiros 5 pesos e bias para comparação\n",
        "print(\"Pesos analíticos (primeiros 5):\", w_analytical.view(-1)[:5].cpu().numpy())\n",
        "print(\"Pesos treinados  (primeiros 5):\", list(model.parameters())[0].detach().cpu().numpy()[0][:5])\n",
        "print(\"Bias analítico:\", w_analytical[0].item())\n",
        "print(\"Bias treinado :\", list(model.parameters())[1].item())\n",
        "\n",
        "# =======================================================\n",
        "# Plot comparativo usando seaborn regplot com parâmetros em LaTeX\n",
        "# =======================================================\n",
        "# =======================================================\n",
        "# Plot comparativo usando seaborn regplot com parâmetros em LaTeX\n",
        "# =======================================================\n",
        "sns.set(style=\"whitegrid\")\n",
        "plt.figure(figsize=(12, 8))\n",
        "\n",
        "# Pega os pesos e bias do modelo nn.Linear\n",
        "w_nn = list(model.parameters())[0].detach().cpu().numpy().flatten()\n",
        "b_nn = list(model.parameters())[1].item()\n",
        "w_anal = w_analytical.view(-1).cpu().numpy()\n",
        "\n",
        "# Cria strings LaTeX para os labels apenas com método (sem listar pesos)\n",
        "label_analytical = r\"$\\text{Analítico}$\"\n",
        "label_nn = r\"$\\text{nn.Linear}$\"\n",
        "\n",
        "# Ponto real vs predito (analítico)\n",
        "sns.regplot(\n",
        "    x=y_te,\n",
        "    y=y_pred_analytical.cpu().detach().numpy(),\n",
        "    color='orange',\n",
        "    label=label_analytical,\n",
        "    scatter_kws={'alpha':0.6}\n",
        ")\n",
        "\n",
        "# Ponto real vs predito (modelo nn.Linear)\n",
        "sns.regplot(\n",
        "    x=y_te,\n",
        "    y=y_pred_model,\n",
        "    color='green',\n",
        "    label=label_nn,\n",
        "    scatter_kws={'alpha':0.6}\n",
        ")\n",
        "\n",
        "# Configuração dos eixos e título\n",
        "plt.xlabel(\"Valores Reais\")\n",
        "plt.ylabel(\"Valores Preditos\")\n",
        "plt.title(\"Comparação: Solução Analítica vs nn.Linear\")\n",
        "\n",
        "# Legenda com fonte menor e caixa semi-transparente\n",
        "plt.legend(fontsize=12, framealpha=0.4, loc='upper left')\n",
        "plt.show()"
      ],
      "metadata": {
        "id": "IkMfDfmnAmLx",
        "colab": {
          "base_uri": "https://localhost:8080/",
          "height": 953
        },
        "outputId": "f7bd31fb-7b14-4af6-86fd-8c13385e8888"
      },
      "execution_count": 112,
      "outputs": [
        {
          "output_type": "stream",
          "name": "stdout",
          "text": [
            "=== Solução Analítica ===\n",
            "MSE: 2900.1936\n",
            "R² : 0.4526\n",
            "\n",
            "=== Regressão Treinada ===\n",
            "MSE: 2885.7159\n",
            "R² : 0.4553\n",
            "\n",
            "=== Comparação dos pesos ===\n",
            "Pesos analíticos (primeiros 5): [153.73654     1.7537557 -11.511811   25.607115   16.828873 ]\n",
            "Pesos treinados  (primeiros 5): [  1.9378772 -11.433249   26.268246   16.607763   -9.853201 ]\n",
            "Bias analítico: 153.73654174804688\n",
            "Bias treinado : 153.73617553710938\n"
          ]
        },
        {
          "output_type": "display_data",
          "data": {
            "text/plain": [
              "<Figure size 1200x800 with 1 Axes>"
            ],
            "image/png": "[encoded data removed]"
          },
          "metadata": {}
        }
      ]
    },
    {
      "cell_type": "markdown",
      "source": [
        "No experimento de regressão linear utilizando o dataset Diabetes do scikit-learn, os dados foram carregados, normalizados e tratados como tensores do PyTorch. O problema foi resolvido de duas formas: pela solução analítica, com cálculo direto dos pesos via pseudo-inversa da equação normal, e pelo treinamento de um modelo nn.Linear otimizado com gradiente descendente estocástico. Os resultados foram bastante próximos: a solução analítica apresentou MSE de 2900.1936 e $R^2$ de 0.4526, enquanto o modelo treinado obteve MSE de 2885.8741 e $R^2$ de 0.4553. A comparação dos pesos mostra diferenças pequenas nos coeficientes, mas ambos os métodos convergem para valores semelhantes, com bias praticamente idêntico. Isso evidencia que a otimização iterativa consegue recuperar resultados equivalentes à solução exata, ainda que sujeita a pequenas variações numéricas."
      ],
      "metadata": {
        "id": "5OGw7ltIeFBd"
      }
    }
  ]
}