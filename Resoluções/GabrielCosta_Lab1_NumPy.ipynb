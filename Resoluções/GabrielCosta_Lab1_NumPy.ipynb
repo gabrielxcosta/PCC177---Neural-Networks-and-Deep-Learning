{
  "nbformat": 4,
  "nbformat_minor": 0,
  "metadata": {
    "colab": {
      "provenance": [],
      "toc_visible": true,
      "gpuType": "T4"
    },
    "kernelspec": {
      "name": "python3",
      "display_name": "Python 3"
    },
    "language_info": {
      "name": "python"
    },
    "accelerator": "GPU"
  },
  "cells": [
    {
      "cell_type": "markdown",
      "source": [
        "# Lab 1 - BCC406/PCC177\n",
        "\n",
        "## REDES NEURAIS E APRENDIZAGEM EM PROFUNDIDADE\n",
        "\n",
        "## Pacote *NumPy e Tensor do PyTorch*\n",
        "\n",
        "### Prof. Eduardo e Prof. Vander\n",
        "\n",
        "Objetivos:\n",
        "\n",
        "- Exercitar n-dimensional arrays.\n",
        "\n",
        "Data da entrega : 06/10/2025\n",
        "\n",
        "- Complete o código (marcado com 'ToDo') e quando requisitado, escreva textos diretamente nos notebooks. Onde tiver *None*, substitua pelo seu código.\n",
        "- Execute todo notebook e salve tudo em um PDF **nomeado** como \"NomeSobrenome-LabX.pdf\"\n",
        "- Envie o PDF e o o *.ipynb* via [Formulário Google](https://docs.google.com/forms/d/e/1FAIpQLSfOgjrTA7dz6ZyyeXO-udDJyUqux-qiHaSZEIFRg38oBmi4mg/viewform?usp=dialog).\n",
        "\n",
        "Sugestão de leitura:\n",
        "\n",
        "- Ler [Capítulo 2 do livro texto](https://pt.d2l.ai/chapter_preliminaries/index.html). Dê ênfase para as seções 2.3 e 2.4. **Sugerimos fortemente** abrir com o Colab e executar estas duas seções passo a passo.\n",
        "- Ler [Capítulo 3 do livro texto](https://d2l.ai/chapter_linear-regression/index.html).\n"
      ],
      "metadata": {
        "id": "X9fHBqFr2AoZ"
      }
    },
    {
      "cell_type": "markdown",
      "source": [
        "## ***NumPy***"
      ],
      "metadata": {
        "id": "eDZEOwGdS_fY"
      }
    },
    {
      "cell_type": "markdown",
      "metadata": {
        "id": "rgbVriCaYte2"
      },
      "source": [
        "*NumPy* é uma das bibliotecas mais populares para computação científica. Ela foi desenvolvida para dar suporte a operações com *arrays* de *N* dimensões e implementa métodos úteis para operações de álgebra linear, geração de números aleatórios, etc."
      ]
    },
    {
      "cell_type": "markdown",
      "source": [
        "### Criando arrays (5pt)"
      ],
      "metadata": {
        "id": "ExS_LMr9TC3P"
      }
    },
    {
      "cell_type": "code",
      "metadata": {
        "id": "_BahTvnI2YfB"
      },
      "source": [
        "# Primeiramente, vamos importar a biblioteca\n",
        "import numpy as np"
      ],
      "execution_count": 1,
      "outputs": []
    },
    {
      "cell_type": "code",
      "metadata": {
        "id": "GZ7qRwmy11Vv",
        "colab": {
          "base_uri": "https://localhost:8080/"
        },
        "outputId": "c5842a58-c2cb-4133-8b7b-b776c178b0f4"
      },
      "source": [
        "# Usaremos a função zeros para criar um array de uma dimensão de tamanho 5\n",
        "np.zeros(5)"
      ],
      "execution_count": 2,
      "outputs": [
        {
          "output_type": "execute_result",
          "data": {
            "text/plain": [
              "array([0., 0., 0., 0., 0.])"
            ]
          },
          "metadata": {},
          "execution_count": 2
        }
      ]
    },
    {
      "cell_type": "code",
      "metadata": {
        "id": "AZFe47z7c1c_",
        "colab": {
          "base_uri": "https://localhost:8080/"
        },
        "outputId": "c7ece43f-ed09-4904-b83c-0e7fc1685fe3"
      },
      "source": [
        "# Da mesma forma, para criar um array de duas dimensões:\n",
        "np.zeros((3,4))"
      ],
      "execution_count": 3,
      "outputs": [
        {
          "output_type": "execute_result",
          "data": {
            "text/plain": [
              "array([[0., 0., 0., 0.],\n",
              "       [0., 0., 0., 0.],\n",
              "       [0., 0., 0., 0.]])"
            ]
          },
          "metadata": {},
          "execution_count": 3
        }
      ]
    },
    {
      "cell_type": "code",
      "source": [
        "# ToDo: Crie um array de três dimensões com o shape (3, 3, 3)\n",
        "np.zeros((3, 3, 3))"
      ],
      "metadata": {
        "id": "GCTkdOYLdSiz",
        "colab": {
          "base_uri": "https://localhost:8080/"
        },
        "outputId": "2b86b2b6-d731-414f-ab2e-b555a2335528"
      },
      "execution_count": 4,
      "outputs": [
        {
          "output_type": "execute_result",
          "data": {
            "text/plain": [
              "array([[[0., 0., 0.],\n",
              "        [0., 0., 0.],\n",
              "        [0., 0., 0.]],\n",
              "\n",
              "       [[0., 0., 0.],\n",
              "        [0., 0., 0.],\n",
              "        [0., 0., 0.]],\n",
              "\n",
              "       [[0., 0., 0.],\n",
              "        [0., 0., 0.],\n",
              "        [0., 0., 0.]]])"
            ]
          },
          "metadata": {},
          "execution_count": 4
        }
      ]
    },
    {
      "cell_type": "markdown",
      "source": [
        "### Vocabulário comum"
      ],
      "metadata": {
        "id": "pyg4oHLMTrV2"
      }
    },
    {
      "cell_type": "markdown",
      "metadata": {
        "id": "M8KT-jbZc_6k"
      },
      "source": [
        "* Em *NumPy*, cada dimensão é chamada eixo (***axis***).\n",
        "* Um array é uma lista de axis e uma lista de tamanho dos axis é o que chamamos de **shape** do array.\n",
        "    * Por exemplo, o shape da matrix acima é `(3, 4)`.\n",
        "    \n",
        "* O tamanho (***size***) de uma array é o número total de elementos, por exemplo, no array 2D acima = `3 * 4 = 12`."
      ]
    },
    {
      "cell_type": "code",
      "metadata": {
        "id": "1YWyPHbuc_SN",
        "colab": {
          "base_uri": "https://localhost:8080/"
        },
        "outputId": "4b6fdf18-ad53-4855-8034-24c293cff7b8"
      },
      "source": [
        "# Criando e mostrando o array\n",
        "a = np.zeros((3,4))\n",
        "a"
      ],
      "execution_count": 5,
      "outputs": [
        {
          "output_type": "execute_result",
          "data": {
            "text/plain": [
              "array([[0., 0., 0., 0.],\n",
              "       [0., 0., 0., 0.],\n",
              "       [0., 0., 0., 0.]])"
            ]
          },
          "metadata": {},
          "execution_count": 5
        }
      ]
    },
    {
      "cell_type": "code",
      "metadata": {
        "id": "UUvZr2bBcwC7",
        "colab": {
          "base_uri": "https://localhost:8080/"
        },
        "outputId": "94b5506d-b7a6-4df3-d273-7d5533a6a807"
      },
      "source": [
        "# Verificando o shape do array\n",
        "a.shape"
      ],
      "execution_count": 6,
      "outputs": [
        {
          "output_type": "execute_result",
          "data": {
            "text/plain": [
              "(3, 4)"
            ]
          },
          "metadata": {},
          "execution_count": 6
        }
      ]
    },
    {
      "cell_type": "code",
      "metadata": {
        "id": "5Vrzg2yMeaiS",
        "colab": {
          "base_uri": "https://localhost:8080/"
        },
        "outputId": "8e5b1494-772c-46e5-b498-dfd3a442bcfc"
      },
      "source": [
        "# Verificando a quantidade de dimensões de um array\n",
        "a.ndim"
      ],
      "execution_count": 7,
      "outputs": [
        {
          "output_type": "execute_result",
          "data": {
            "text/plain": [
              "2"
            ]
          },
          "metadata": {},
          "execution_count": 7
        }
      ]
    },
    {
      "cell_type": "code",
      "metadata": {
        "id": "0dIVxyT6eeFp",
        "colab": {
          "base_uri": "https://localhost:8080/"
        },
        "outputId": "299198ae-cf1e-4262-e23d-66ae4d73ce02"
      },
      "source": [
        "# Verificando a quantidade de elemntos no array\n",
        "a.size"
      ],
      "execution_count": 8,
      "outputs": [
        {
          "output_type": "execute_result",
          "data": {
            "text/plain": [
              "12"
            ]
          },
          "metadata": {},
          "execution_count": 8
        }
      ]
    },
    {
      "cell_type": "code",
      "metadata": {
        "id": "6r6XyebuexGL",
        "colab": {
          "base_uri": "https://localhost:8080/"
        },
        "outputId": "add72577-2d3b-428d-dd93-c958a6f03f43"
      },
      "source": [
        "# ToDo : Criar um array de 3 dimensões, de shape (2,3,4) e mostrar o shape, quantidade de dimensões e o número de elemetos\n",
        "a = np.zeros((2, 3, 4))\n",
        "print(a)\n",
        "print(a.shape)\n",
        "print(a.ndim)\n",
        "print(a.size)"
      ],
      "execution_count": 9,
      "outputs": [
        {
          "output_type": "stream",
          "name": "stdout",
          "text": [
            "[[[0. 0. 0. 0.]\n",
            "  [0. 0. 0. 0.]\n",
            "  [0. 0. 0. 0.]]\n",
            "\n",
            " [[0. 0. 0. 0.]\n",
            "  [0. 0. 0. 0.]\n",
            "  [0. 0. 0. 0.]]]\n",
            "(2, 3, 4)\n",
            "3\n",
            "24\n"
          ]
        }
      ]
    },
    {
      "cell_type": "code",
      "source": [
        "# ToDo : Criar um array de 3 dimensões mas trocando a função zeros por ones e mostrar o shape, quantidade de dimensões e o número de elementos\n",
        "a = np.ones((2, 3, 4))\n",
        "print(a)\n",
        "print(a.shape)\n",
        "print(a.ndim)\n",
        "print(a.size)"
      ],
      "metadata": {
        "id": "1GW4U4OeeEIL",
        "colab": {
          "base_uri": "https://localhost:8080/"
        },
        "outputId": "773aef4d-3f96-4f1a-a2a8-7a16f303c04b"
      },
      "execution_count": 10,
      "outputs": [
        {
          "output_type": "stream",
          "name": "stdout",
          "text": [
            "[[[1. 1. 1. 1.]\n",
            "  [1. 1. 1. 1.]\n",
            "  [1. 1. 1. 1.]]\n",
            "\n",
            " [[1. 1. 1. 1.]\n",
            "  [1. 1. 1. 1.]\n",
            "  [1. 1. 1. 1.]]]\n",
            "(2, 3, 4)\n",
            "3\n",
            "24\n"
          ]
        }
      ]
    },
    {
      "cell_type": "code",
      "source": [
        "# ToDo : Criar um array de 3 dimensões mas trocando a função zeros por full e mostrar o shape, quantidade de dimensões e o número de elementos\n",
        "a = np.full((2, 3, 4), 5)\n",
        "print(a)\n",
        "print(a.shape)\n",
        "print(a.ndim)\n",
        "print(a.size)"
      ],
      "metadata": {
        "id": "6-SmdqTMeD-3",
        "colab": {
          "base_uri": "https://localhost:8080/"
        },
        "outputId": "fd5111a0-6b66-4e12-82be-a35c12d19201"
      },
      "execution_count": 11,
      "outputs": [
        {
          "output_type": "stream",
          "name": "stdout",
          "text": [
            "[[[5 5 5 5]\n",
            "  [5 5 5 5]\n",
            "  [5 5 5 5]]\n",
            "\n",
            " [[5 5 5 5]\n",
            "  [5 5 5 5]\n",
            "  [5 5 5 5]]]\n",
            "(2, 3, 4)\n",
            "3\n",
            "24\n"
          ]
        }
      ]
    },
    {
      "cell_type": "code",
      "metadata": {
        "id": "ZDy7vZuWfIto",
        "colab": {
          "base_uri": "https://localhost:8080/"
        },
        "outputId": "d604ae09-30e3-4b12-dbfc-2e7fa73011d8"
      },
      "source": [
        "# ToDo : Criar um array de 3 dimensões mas trocando a função zeros por empty e mostrar o shape, quantidade de dimensões e o número de elementos\n",
        "a = np.empty((2, 3, 4))\n",
        "print(a)\n",
        "print(a.shape)\n",
        "print(a.ndim)\n",
        "print(a.size)"
      ],
      "execution_count": 12,
      "outputs": [
        {
          "output_type": "stream",
          "name": "stdout",
          "text": [
            "[[[1. 1. 1. 1.]\n",
            "  [1. 1. 1. 1.]\n",
            "  [1. 1. 1. 1.]]\n",
            "\n",
            " [[1. 1. 1. 1.]\n",
            "  [1. 1. 1. 1.]\n",
            "  [1. 1. 1. 1.]]]\n",
            "(2, 3, 4)\n",
            "3\n",
            "24\n"
          ]
        }
      ]
    },
    {
      "cell_type": "markdown",
      "source": [
        "> **ToDo**: O que você pode dizer sobre cada uma das quatro funções que você usou?\n",
        "\n",
        "`zeros:` cria array preenchido com 0.\n",
        "\n",
        "`ones:` cria array preenchido com 1.\n",
        "\n",
        "`full:` cria array preenchido com um valor definido.\n",
        "\n",
        "`empty:` cria array sem inicializar valores (lixo de memória)."
      ],
      "metadata": {
        "id": "YKAY7gdxeVzs"
      }
    },
    {
      "cell_type": "markdown",
      "source": [
        "### O comando ***np.arange***"
      ],
      "metadata": {
        "id": "nkjmI9MeTyjL"
      }
    },
    {
      "cell_type": "markdown",
      "metadata": {
        "id": "_TzkxvDDfgWc"
      },
      "source": [
        "Você pode criar um array usando a função arange, similar a função range do Python."
      ]
    },
    {
      "cell_type": "code",
      "metadata": {
        "id": "vSxyvBeEftcC",
        "colab": {
          "base_uri": "https://localhost:8080/"
        },
        "outputId": "1ce35a25-fd26-41d7-df19-26596b761af5"
      },
      "source": [
        "# Criando um array\n",
        "np.arange(1, 5)"
      ],
      "execution_count": 13,
      "outputs": [
        {
          "output_type": "execute_result",
          "data": {
            "text/plain": [
              "array([1, 2, 3, 4])"
            ]
          },
          "metadata": {},
          "execution_count": 13
        }
      ]
    },
    {
      "cell_type": "code",
      "metadata": {
        "id": "QQYKeQ4HfvzP",
        "colab": {
          "base_uri": "https://localhost:8080/"
        },
        "outputId": "f53c23a3-7cb6-4f9b-a335-c83622b2e822"
      },
      "source": [
        "# Para criar com ponto flutuante\n",
        "np.arange(1.0, 5.0)"
      ],
      "execution_count": 14,
      "outputs": [
        {
          "output_type": "execute_result",
          "data": {
            "text/plain": [
              "array([1., 2., 3., 4.])"
            ]
          },
          "metadata": {},
          "execution_count": 14
        }
      ]
    },
    {
      "cell_type": "code",
      "metadata": {
        "id": "6U8y37khjYOM",
        "colab": {
          "base_uri": "https://localhost:8080/"
        },
        "outputId": "67ff960c-cb2d-47da-e379-25e0cebb7bba"
      },
      "source": [
        "# ToDo : crie um array com arange, variando de 1 a 5, com um passo de 0.5\n",
        "np.arange(1.0, 5.0, 0.5)"
      ],
      "execution_count": 15,
      "outputs": [
        {
          "output_type": "execute_result",
          "data": {
            "text/plain": [
              "array([1. , 1.5, 2. , 2.5, 3. , 3.5, 4. , 4.5])"
            ]
          },
          "metadata": {},
          "execution_count": 15
        }
      ]
    },
    {
      "cell_type": "markdown",
      "source": [
        "### Os comandos ***np.rand*** e ***np.randn***"
      ],
      "metadata": {
        "id": "QRAQgy0PUDc4"
      }
    },
    {
      "cell_type": "markdown",
      "metadata": {
        "id": "a3FACJL6jxIc"
      },
      "source": [
        "O *NumPy* tem várias funções para criação de números aleatórios. Estas funções são muito úteis para inicialização dos pesos das redes neurais. Por exemplo, abaixo criamos uma matrix `(3, 4)` inicializada com números em ponto flutuante (*floats*) e distribuição uniforme:"
      ]
    },
    {
      "cell_type": "code",
      "metadata": {
        "id": "xgCOeCnLkWnT",
        "colab": {
          "base_uri": "https://localhost:8080/"
        },
        "outputId": "733ed07a-9a7f-45e3-fbb0-e95cbd4c93a5"
      },
      "source": [
        "np.random.rand(3,4)"
      ],
      "execution_count": 16,
      "outputs": [
        {
          "output_type": "execute_result",
          "data": {
            "text/plain": [
              "array([[0.14090301, 0.01627315, 0.94146692, 0.25301038],\n",
              "       [0.28307956, 0.35391049, 0.31604584, 0.78787368],\n",
              "       [0.36657839, 0.72690813, 0.60049665, 0.88601686]])"
            ]
          },
          "metadata": {},
          "execution_count": 16
        }
      ]
    },
    {
      "cell_type": "markdown",
      "metadata": {
        "id": "wJ5O6QOvNYOv"
      },
      "source": [
        "Abaixo um matriz inicializada com distribuição gaussiana ([normal distribution](https://en.wikipedia.org/wiki/Normal_distribution)) com média 0 e variância 1"
      ]
    },
    {
      "cell_type": "code",
      "metadata": {
        "id": "YzbgYn_4kbTp",
        "colab": {
          "base_uri": "https://localhost:8080/"
        },
        "outputId": "9ee4a3b0-052e-49dd-a1c5-1508dd981bb5"
      },
      "source": [
        "np.random.randn(3,4)"
      ],
      "execution_count": 17,
      "outputs": [
        {
          "output_type": "execute_result",
          "data": {
            "text/plain": [
              "array([[ 0.72505282,  0.13985005,  1.22486225,  0.54065044],\n",
              "       [-0.95813954, -0.28282952,  1.25193929, -0.04050759],\n",
              "       [ 0.80463568, -0.38297702,  0.14022545, -1.49062442]])"
            ]
          },
          "metadata": {},
          "execution_count": 17
        }
      ]
    },
    {
      "cell_type": "code",
      "source": [
        "# ToDo : crie um array aleatório com o shape (1, 2, 3, 4)\n",
        "np.random.randn(1, 2, 3, 4)"
      ],
      "metadata": {
        "id": "ABvDRpYFfaSr",
        "colab": {
          "base_uri": "https://localhost:8080/"
        },
        "outputId": "2d09fed3-6dee-4782-f521-316a66cd3697"
      },
      "execution_count": 18,
      "outputs": [
        {
          "output_type": "execute_result",
          "data": {
            "text/plain": [
              "array([[[[-1.25576273, -1.12384482, -0.53613058, -1.51774994],\n",
              "         [ 0.45074639,  0.81977821, -0.59771762,  0.79041072],\n",
              "         [ 1.44128795, -1.89190705, -0.75975351, -0.95127605]],\n",
              "\n",
              "        [[-0.90887703, -1.15126224, -0.33374355,  2.30752937],\n",
              "         [-0.82992759,  0.62994652,  1.35899489, -0.36139922],\n",
              "         [ 1.47446337, -1.07161957, -0.64849201, -1.09859442]]]])"
            ]
          },
          "metadata": {},
          "execution_count": 18
        }
      ]
    },
    {
      "cell_type": "markdown",
      "source": [
        "### A biblioteca *MatplotLib*"
      ],
      "metadata": {
        "id": "sby7_674UWCW"
      }
    },
    {
      "cell_type": "markdown",
      "metadata": {
        "id": "NHZ0hdo5mpir"
      },
      "source": [
        "Vamos usar a biblioteca matplotlib (para mais detalhes veja o [tutorial de *matplotlib*](https://drive.google.com/file/d/1f3Y_gm-URBVov5wIOs-JrdNw0gK86EXL/view?usp=sharing)) para plotar dois arrays de tamanho 10.000, um inicializado com distribuição normal e o outro com uniforme"
      ]
    },
    {
      "cell_type": "code",
      "metadata": {
        "id": "Pk6XqokcnBLs"
      },
      "source": [
        "%matplotlib inline\n",
        "import matplotlib.pyplot as plt"
      ],
      "execution_count": 19,
      "outputs": []
    },
    {
      "cell_type": "markdown",
      "source": [
        "Primeiro os dados que serão plotados precisam ser criados"
      ],
      "metadata": {
        "id": "ZvBz0bCBjNr_"
      }
    },
    {
      "cell_type": "code",
      "metadata": {
        "id": "yAjUzzS5nFNY"
      },
      "source": [
        "array_a = np.random.randn(10000)\n",
        "array_b = np.random.randn(10000)"
      ],
      "execution_count": 20,
      "outputs": []
    },
    {
      "cell_type": "markdown",
      "source": [
        "Depois eles podem ser plotados"
      ],
      "metadata": {
        "id": "Rz2WWH-1jRTb"
      }
    },
    {
      "cell_type": "code",
      "metadata": {
        "id": "QaVSaHDanFX7",
        "colab": {
          "base_uri": "https://localhost:8080/",
          "height": 474
        },
        "outputId": "f7f71155-b1ea-40f6-e8bf-ca648c801e4f"
      },
      "source": [
        "plt.hist(array_a, density=True, bins=100, histtype=\"step\", color=\"blue\", label=\"rand\")\n",
        "plt.hist(array_b, density=True, bins=100, histtype=\"step\", color=\"red\", label=\"randn\")\n",
        "plt.axis([-2.5, 2.5, 0, 1.1])\n",
        "plt.legend(loc = \"upper left\")\n",
        "plt.title(\"Distribuições aleatṍrias\")\n",
        "plt.xlabel(\"Valor\")\n",
        "plt.ylabel(\"Densidade\")\n",
        "plt.show()"
      ],
      "execution_count": 21,
      "outputs": [
        {
          "output_type": "display_data",
          "data": {
            "text/plain": [
              "<Figure size 640x480 with 1 Axes>"
            ],
            "image/png": "[encoded data removed]"
          },
          "metadata": {}
        }
      ]
    },
    {
      "cell_type": "markdown",
      "source": [
        "### Tipo de dados (***dtype***)"
      ],
      "metadata": {
        "id": "xNJLRAtyUt5v"
      }
    },
    {
      "cell_type": "markdown",
      "metadata": {
        "id": "hqg3Mkz3nt6i"
      },
      "source": [
        "Você pode ver qual o tipo de dado pelo atributo `dtype`. Verifique abaixo:"
      ]
    },
    {
      "cell_type": "code",
      "metadata": {
        "id": "_8RjI5j-n38c",
        "colab": {
          "base_uri": "https://localhost:8080/"
        },
        "outputId": "dfb421d4-b92a-4ca5-a14d-eb7ff5f17c4d"
      },
      "source": [
        "c = np.arange(1, 5)\n",
        "print(c.dtype, c)"
      ],
      "execution_count": 22,
      "outputs": [
        {
          "output_type": "stream",
          "name": "stdout",
          "text": [
            "int64 [1 2 3 4]\n"
          ]
        }
      ]
    },
    {
      "cell_type": "code",
      "metadata": {
        "id": "FE2DlBhkn9CE",
        "colab": {
          "base_uri": "https://localhost:8080/"
        },
        "outputId": "c825734a-fbcc-494f-a709-2a9879069f8c"
      },
      "source": [
        "# ToDo: Crie um um array aleatório de shape (2, 3, 4) e verifique o seu tipo\n",
        "d = np.random.randn(2, 3, 4)\n",
        "print(d.dtype, d)"
      ],
      "execution_count": 23,
      "outputs": [
        {
          "output_type": "stream",
          "name": "stdout",
          "text": [
            "float64 [[[-0.36956787  0.40463199  0.38641886 -0.72939088]\n",
            "  [ 2.6360833  -0.38712566 -0.09282348 -0.43923728]\n",
            "  [-1.01857353 -0.66838402 -0.51800084 -0.80558694]]\n",
            "\n",
            " [[-1.22308044  1.71650326  2.00256654 -0.16114497]\n",
            "  [-0.60321144 -0.87707622 -0.82535118  2.32054393]\n",
            "  [ 2.99345916 -2.58038906 -1.39729022  1.62756957]]]\n"
          ]
        }
      ]
    },
    {
      "cell_type": "markdown",
      "metadata": {
        "id": "ylFtnobMoDof"
      },
      "source": [
        "Tipos disponĩveis: `int8`, `int16`, `int32`, `int64`, `uint8`|`16`|`32`|`64`, `float16`|`32`|`64` e `complex64`|`128`. Veja a [documentação](http://docs.scipy.org/doc/numpy-1.10.1/user/basics.types.html) para a lista completa.\n"
      ]
    },
    {
      "cell_type": "markdown",
      "source": [
        "### Atributo ***itemsize***"
      ],
      "metadata": {
        "id": "sWI7oAE7VFrL"
      }
    },
    {
      "cell_type": "markdown",
      "source": [
        "O atributo `itemsize` retorna o tamanho em bytes"
      ],
      "metadata": {
        "id": "aJnMiG2oVHhc"
      }
    },
    {
      "cell_type": "code",
      "metadata": {
        "id": "94eTv9JWoCDi",
        "colab": {
          "base_uri": "https://localhost:8080/"
        },
        "outputId": "e6bd468c-5b9e-4eb4-aefb-5a80b5f38684"
      },
      "source": [
        "e = np.arange(1, 5, dtype=np.complex64)\n",
        "e.itemsize"
      ],
      "execution_count": 24,
      "outputs": [
        {
          "output_type": "execute_result",
          "data": {
            "text/plain": [
              "8"
            ]
          },
          "metadata": {},
          "execution_count": 24
        }
      ]
    },
    {
      "cell_type": "code",
      "metadata": {
        "id": "GqBdud2Kocn4",
        "colab": {
          "base_uri": "https://localhost:8080/"
        },
        "outputId": "7cd270b6-ced5-4ec8-b541-29a08f1e92b9"
      },
      "source": [
        "# Na memória, um array é armazenado de forma contígua\n",
        "f = np.array([[1,2],[1000, 2000]], dtype=np.int32)\n",
        "f.data"
      ],
      "execution_count": 25,
      "outputs": [
        {
          "output_type": "execute_result",
          "data": {
            "text/plain": [
              "<memory at 0x7d6390ade670>"
            ]
          },
          "metadata": {},
          "execution_count": 25
        }
      ]
    },
    {
      "cell_type": "code",
      "source": [
        "# ToDo: Crie arrays de shape (2, 2) dos tipos int8, int64, float16, float64, complex64 e complex128\n",
        "arr_1 = np.ones((2, 2), dtype=np.int8)\n",
        "arr_2 = np.ones((2, 2), dtype=np.int64)\n",
        "arr_3 = np.ones((2, 2), dtype=np.float16)\n",
        "arr_4 = np.ones((2, 2), dtype=np.float64)\n",
        "arr_5 = np.ones((2, 2), dtype=np.complex64)\n",
        "arr_6 = np.ones((2, 2), dtype=np.complex128)"
      ],
      "metadata": {
        "id": "sLnVgJQJjzxU"
      },
      "execution_count": 26,
      "outputs": []
    },
    {
      "cell_type": "code",
      "source": [
        "print(arr_1)\n",
        "print()\n",
        "print(arr_2)\n",
        "print()\n",
        "print(arr_3)\n",
        "print()\n",
        "print(arr_4)\n",
        "print()\n",
        "print(arr_5)\n",
        "print()\n",
        "print(arr_6)"
      ],
      "metadata": {
        "colab": {
          "base_uri": "https://localhost:8080/"
        },
        "id": "poYWv2MbaPDQ",
        "outputId": "295aa73d-c6c8-4d2d-b9dd-046a027719de"
      },
      "execution_count": 27,
      "outputs": [
        {
          "output_type": "stream",
          "name": "stdout",
          "text": [
            "[[1 1]\n",
            " [1 1]]\n",
            "\n",
            "[[1 1]\n",
            " [1 1]]\n",
            "\n",
            "[[1. 1.]\n",
            " [1. 1.]]\n",
            "\n",
            "[[1. 1.]\n",
            " [1. 1.]]\n",
            "\n",
            "[[1.+0.j 1.+0.j]\n",
            " [1.+0.j 1.+0.j]]\n",
            "\n",
            "[[1.+0.j 1.+0.j]\n",
            " [1.+0.j 1.+0.j]]\n"
          ]
        }
      ]
    },
    {
      "cell_type": "markdown",
      "source": [
        "> **ToDo**: O que você pode dizer sobre esses arrays criados?\n",
        "\n",
        "Cada array tem o mesmo shape (2, 2) e valores iguais a 1, mas diferem pelo tipo de dado armazenado:\n",
        "\n",
        "`int8:` inteiros de 8 bits, variam de –128 a 127.\n",
        "\n",
        "`int64:` inteiros de 64 bits, usados para números inteiros muito grandes.\n",
        "\n",
        "`float16:` números decimais em 16 bits, baixa precisão e baixo uso de memória.\n",
        "\n",
        "`float64:` números decimais em 64 bits, alta precisão (padrão do NumPy).\n",
        "\n",
        "`complex64:` números complexos em 64 bits (32 bits para parte real e 32 bits para parte imaginária).\n",
        "\n",
        "`complex128:` números complexos em 128 bits (64 bits para parte real e 64 bits para parte imaginária)."
      ],
      "metadata": {
        "id": "4p7ZKX-VkGeA"
      }
    },
    {
      "cell_type": "markdown",
      "source": [
        "### ***Reshaping***"
      ],
      "metadata": {
        "id": "OUlszIjTVWeJ"
      }
    },
    {
      "cell_type": "markdown",
      "metadata": {
        "id": "HlJ5vj9Gol53"
      },
      "source": [
        "Alterar o shape de uma array é muto fácil com NumPy e muito útil para adequação das matrizes para métodos de machine learning. Contudo, o tamanho (size) não pode ser alterado."
      ]
    },
    {
      "cell_type": "code",
      "metadata": {
        "id": "uXu0PAwgo811",
        "colab": {
          "base_uri": "https://localhost:8080/"
        },
        "outputId": "20271fb6-dfe0-4f1f-b3f9-d5a2291d7a6d"
      },
      "source": [
        "# O núemro de dimensões também é chamado de rank\n",
        "g = np.arange(24)\n",
        "print(g)\n",
        "print(\"Rank:\", g.ndim)"
      ],
      "execution_count": 28,
      "outputs": [
        {
          "output_type": "stream",
          "name": "stdout",
          "text": [
            "[ 0  1  2  3  4  5  6  7  8  9 10 11 12 13 14 15 16 17 18 19 20 21 22 23]\n",
            "Rank: 1\n"
          ]
        }
      ]
    },
    {
      "cell_type": "code",
      "metadata": {
        "id": "xRWmC6FUpDHX",
        "colab": {
          "base_uri": "https://localhost:8080/"
        },
        "outputId": "bb16fbcd-767d-4a0b-8911-0f8f9ff027bb"
      },
      "source": [
        "g.shape = (6, 4)\n",
        "print(g)\n",
        "print(\"Rank:\", g.ndim)"
      ],
      "execution_count": 29,
      "outputs": [
        {
          "output_type": "stream",
          "name": "stdout",
          "text": [
            "[[ 0  1  2  3]\n",
            " [ 4  5  6  7]\n",
            " [ 8  9 10 11]\n",
            " [12 13 14 15]\n",
            " [16 17 18 19]\n",
            " [20 21 22 23]]\n",
            "Rank: 2\n"
          ]
        }
      ]
    },
    {
      "cell_type": "code",
      "metadata": {
        "id": "mH34bpWSpG9O",
        "colab": {
          "base_uri": "https://localhost:8080/"
        },
        "outputId": "a7847409-72c8-47ec-c127-4028e91ea744"
      },
      "source": [
        "g.shape = (2, 3, 4)\n",
        "print(g)\n",
        "print(\"Rank:\", g.ndim)"
      ],
      "execution_count": 30,
      "outputs": [
        {
          "output_type": "stream",
          "name": "stdout",
          "text": [
            "[[[ 0  1  2  3]\n",
            "  [ 4  5  6  7]\n",
            "  [ 8  9 10 11]]\n",
            "\n",
            " [[12 13 14 15]\n",
            "  [16 17 18 19]\n",
            "  [20 21 22 23]]]\n",
            "Rank: 3\n"
          ]
        }
      ]
    },
    {
      "cell_type": "markdown",
      "metadata": {
        "id": "R9nZuFMVpMg7"
      },
      "source": [
        "Mudando o formato do dado (***reshape***)"
      ]
    },
    {
      "cell_type": "code",
      "metadata": {
        "id": "7z_UhY_FpLYl",
        "colab": {
          "base_uri": "https://localhost:8080/"
        },
        "outputId": "95884d27-009e-4485-d632-b5c701a96013"
      },
      "source": [
        "g2 = g.reshape(4,6)\n",
        "print(g2)\n",
        "print(\"Rank:\", g2.ndim)"
      ],
      "execution_count": 31,
      "outputs": [
        {
          "output_type": "stream",
          "name": "stdout",
          "text": [
            "[[ 0  1  2  3  4  5]\n",
            " [ 6  7  8  9 10 11]\n",
            " [12 13 14 15 16 17]\n",
            " [18 19 20 21 22 23]]\n",
            "Rank: 2\n"
          ]
        }
      ]
    },
    {
      "cell_type": "code",
      "metadata": {
        "id": "_n_4kK7JpRW7",
        "colab": {
          "base_uri": "https://localhost:8080/"
        },
        "outputId": "94b97f42-5575-4d22-ea5e-3b50298b7fc9"
      },
      "source": [
        "# Pode-se alterar diretamente um item da matriz, pelo índice\n",
        "g2[1, 2] = 999\n",
        "g2"
      ],
      "execution_count": 32,
      "outputs": [
        {
          "output_type": "execute_result",
          "data": {
            "text/plain": [
              "array([[  0,   1,   2,   3,   4,   5],\n",
              "       [  6,   7, 999,   9,  10,  11],\n",
              "       [ 12,  13,  14,  15,  16,  17],\n",
              "       [ 18,  19,  20,  21,  22,  23]])"
            ]
          },
          "metadata": {},
          "execution_count": 32
        }
      ]
    },
    {
      "cell_type": "markdown",
      "source": [
        "Repare que o objeto `'g'` foi modificado também!"
      ],
      "metadata": {
        "id": "ooR4UMX3Cczq"
      }
    },
    {
      "cell_type": "code",
      "metadata": {
        "id": "gHX2ECfDpYUb",
        "colab": {
          "base_uri": "https://localhost:8080/"
        },
        "outputId": "9d1db002-2f92-491f-ad21-742d885d9bd2"
      },
      "source": [
        "g"
      ],
      "execution_count": 33,
      "outputs": [
        {
          "output_type": "execute_result",
          "data": {
            "text/plain": [
              "array([[[  0,   1,   2,   3],\n",
              "        [  4,   5,   6,   7],\n",
              "        [999,   9,  10,  11]],\n",
              "\n",
              "       [[ 12,  13,  14,  15],\n",
              "        [ 16,  17,  18,  19],\n",
              "        [ 20,  21,  22,  23]]])"
            ]
          },
          "metadata": {},
          "execution_count": 33
        }
      ]
    },
    {
      "cell_type": "markdown",
      "metadata": {
        "id": "cAxT-zxVps9R"
      },
      "source": [
        "Todas a operçãoes aritméticas comuns podem ser feitas com o *ndarray*"
      ]
    },
    {
      "cell_type": "code",
      "metadata": {
        "id": "9FxqdcOWpz1R",
        "colab": {
          "base_uri": "https://localhost:8080/"
        },
        "outputId": "0f751c17-2348-4cf8-acb2-572e662a9d2e"
      },
      "source": [
        "a = np.array([14, 23, 32, 41])\n",
        "b = np.array([5,  4,  3,  2])\n",
        "print(\"a + b  =\", a + b)\n",
        "print(\"a - b  =\", a - b)\n",
        "print(\"a * b  =\", a * b)\n",
        "print(\"a / b  =\", a / b)\n",
        "print(\"a // b  =\", a // b)\n",
        "print(\"a % b  =\", a % b)\n",
        "print(\"a ** b =\", a ** b)"
      ],
      "execution_count": 34,
      "outputs": [
        {
          "output_type": "stream",
          "name": "stdout",
          "text": [
            "a + b  = [19 27 35 43]\n",
            "a - b  = [ 9 19 29 39]\n",
            "a * b  = [70 92 96 82]\n",
            "a / b  = [ 2.8         5.75       10.66666667 20.5       ]\n",
            "a // b  = [ 2  5 10 20]\n",
            "a % b  = [4 3 2 1]\n",
            "a ** b = [537824 279841  32768   1681]\n"
          ]
        }
      ]
    },
    {
      "cell_type": "markdown",
      "metadata": {
        "id": "KvavA4ZLp5Do"
      },
      "source": [
        "Repare que a multiplicação acima **NÃO** é um multiplicação de martizes\n",
        "\n",
        "Arrays devem ter o mesmo shape, caso contrário, NumPy vai aplicar a regra de *broadcasting* (Ver seção 2.1.3 do [livro texto](http://d2l.ai/chapter_preliminaries/ndarray.html)). Pesquise sobre a operação ed bradcasting do NumPy e explique com suas palavras, abaixo:"
      ]
    },
    {
      "cell_type": "markdown",
      "source": [
        "> **ToDo**: Explique o conceito de *broadcasting*.\n",
        "\n",
        "O *broadcasting* no NumPy permite realizar operações entre arrays de shapes diferentes, ajustando automaticamente suas dimensões para que sejam compatíveis. Isso é feito sem copiar dados na memória, tornando as operações mais eficientes. Fonte: https://numpy.org/doc/stable/user/basics.broadcasting.html.\n",
        "\n",
        "**Regras principais:**\n",
        "\n",
        "1. As dimensões são comparadas da direita para a esquerda.\n",
        "\n",
        "2. São compatíveis se forem iguais ou uma delas for 1.\n",
        "\n",
        "3. Arrays com menos dimensões têm dimensões faltantes assumidas como tamanho 1."
      ],
      "metadata": {
        "id": "H8vABCLXkUZJ"
      }
    },
    {
      "cell_type": "markdown",
      "source": [
        "### Iteração e Concatenação de arrays de *NumPy*"
      ],
      "metadata": {
        "id": "6bxKHkldVyvt"
      }
    },
    {
      "cell_type": "markdown",
      "metadata": {
        "id": "KrNWG2EBqokb"
      },
      "source": [
        "Repare que você pode iterar pelos `ndarrays`, e que ela é feita pelos *axis*."
      ]
    },
    {
      "cell_type": "code",
      "metadata": {
        "id": "NufhSS2Cqree",
        "colab": {
          "base_uri": "https://localhost:8080/"
        },
        "outputId": "634a73da-0403-4964-b205-9e02f22e0438"
      },
      "source": [
        "c = np.arange(24).reshape(2, 3, 4)  # Um array 3D (coposto de duas matrizes de 3x4)\n",
        "c"
      ],
      "execution_count": 35,
      "outputs": [
        {
          "output_type": "execute_result",
          "data": {
            "text/plain": [
              "array([[[ 0,  1,  2,  3],\n",
              "        [ 4,  5,  6,  7],\n",
              "        [ 8,  9, 10, 11]],\n",
              "\n",
              "       [[12, 13, 14, 15],\n",
              "        [16, 17, 18, 19],\n",
              "        [20, 21, 22, 23]]])"
            ]
          },
          "metadata": {},
          "execution_count": 35
        }
      ]
    },
    {
      "cell_type": "code",
      "metadata": {
        "id": "Kuyq7oUjp4vg",
        "colab": {
          "base_uri": "https://localhost:8080/"
        },
        "outputId": "b5a8c88c-e570-448d-a78d-0f2ac80aa302"
      },
      "source": [
        "for m in c:\n",
        "    print(\"Item:\")\n",
        "    print(m)"
      ],
      "execution_count": 36,
      "outputs": [
        {
          "output_type": "stream",
          "name": "stdout",
          "text": [
            "Item:\n",
            "[[ 0  1  2  3]\n",
            " [ 4  5  6  7]\n",
            " [ 8  9 10 11]]\n",
            "Item:\n",
            "[[12 13 14 15]\n",
            " [16 17 18 19]\n",
            " [20 21 22 23]]\n"
          ]
        }
      ]
    },
    {
      "cell_type": "code",
      "metadata": {
        "id": "rS5NbTS2rArD",
        "colab": {
          "base_uri": "https://localhost:8080/"
        },
        "outputId": "c2b6e0e8-b5a3-4850-f6bf-e10f416c0b7c"
      },
      "source": [
        "for i in range(len(c)):  # Observe que len(c) == c.shape[0]\n",
        "    print(\"Item:\")\n",
        "    print(c[i])"
      ],
      "execution_count": 37,
      "outputs": [
        {
          "output_type": "stream",
          "name": "stdout",
          "text": [
            "Item:\n",
            "[[ 0  1  2  3]\n",
            " [ 4  5  6  7]\n",
            " [ 8  9 10 11]]\n",
            "Item:\n",
            "[[12 13 14 15]\n",
            " [16 17 18 19]\n",
            " [20 21 22 23]]\n"
          ]
        }
      ]
    },
    {
      "cell_type": "code",
      "metadata": {
        "id": "hXMSTO3MrDP4",
        "colab": {
          "base_uri": "https://localhost:8080/"
        },
        "outputId": "e0f1ec24-cdec-41f9-d717-2e685cc7423a"
      },
      "source": [
        "# Para iterar por todos os elementos\n",
        "for i in c.flat:\n",
        "    print(\"Item:\", i)"
      ],
      "execution_count": 38,
      "outputs": [
        {
          "output_type": "stream",
          "name": "stdout",
          "text": [
            "Item: 0\n",
            "Item: 1\n",
            "Item: 2\n",
            "Item: 3\n",
            "Item: 4\n",
            "Item: 5\n",
            "Item: 6\n",
            "Item: 7\n",
            "Item: 8\n",
            "Item: 9\n",
            "Item: 10\n",
            "Item: 11\n",
            "Item: 12\n",
            "Item: 13\n",
            "Item: 14\n",
            "Item: 15\n",
            "Item: 16\n",
            "Item: 17\n",
            "Item: 18\n",
            "Item: 19\n",
            "Item: 20\n",
            "Item: 21\n",
            "Item: 22\n",
            "Item: 23\n"
          ]
        }
      ]
    },
    {
      "cell_type": "markdown",
      "metadata": {
        "id": "1RznKDthrLfn"
      },
      "source": [
        "Também é possível concatenar `ndarrays`, e isso pode ser feito em um eixo específico."
      ]
    },
    {
      "cell_type": "code",
      "metadata": {
        "id": "WRQVwQxnrM-f",
        "colab": {
          "base_uri": "https://localhost:8080/"
        },
        "outputId": "20930d63-71ca-4f34-a871-65e059befbd4"
      },
      "source": [
        "# Pode-se concatenar arrays pelos axis\n",
        "q1 = np.full((3,4), 1.0)\n",
        "\n",
        "q2 = np.full((4,4), 2.0)\n",
        "\n",
        "q3 = np.full((3,4), 3.0)\n",
        "\n",
        "q = np.concatenate((q1, q2, q3), axis=0)\n",
        "\n",
        "q"
      ],
      "execution_count": 39,
      "outputs": [
        {
          "output_type": "execute_result",
          "data": {
            "text/plain": [
              "array([[1., 1., 1., 1.],\n",
              "       [1., 1., 1., 1.],\n",
              "       [1., 1., 1., 1.],\n",
              "       [2., 2., 2., 2.],\n",
              "       [2., 2., 2., 2.],\n",
              "       [2., 2., 2., 2.],\n",
              "       [2., 2., 2., 2.],\n",
              "       [3., 3., 3., 3.],\n",
              "       [3., 3., 3., 3.],\n",
              "       [3., 3., 3., 3.]])"
            ]
          },
          "metadata": {},
          "execution_count": 39
        }
      ]
    },
    {
      "cell_type": "code",
      "source": [
        "# ToDo: imprima o shape resultante da concatenação dos arrays de shape a = (2, 3, 4) e b = (2, 3, 4) em cada eixo separadamente\n",
        "a = np.full((2, 3, 4), 1.0)\n",
        "b = np.full((2, 3, 4), 2.0)\n",
        "print(np.concatenate((a, b), axis=0).shape)\n",
        "print(np.concatenate((a, b), axis=1).shape)\n",
        "print(np.concatenate((a, b), axis=2).shape)"
      ],
      "metadata": {
        "id": "oP16-SvolCPR",
        "colab": {
          "base_uri": "https://localhost:8080/"
        },
        "outputId": "3eab4e92-2cab-49d6-ccc8-bbda589199b0"
      },
      "execution_count": 40,
      "outputs": [
        {
          "output_type": "stream",
          "name": "stdout",
          "text": [
            "(4, 3, 4)\n",
            "(2, 6, 4)\n",
            "(2, 3, 8)\n"
          ]
        }
      ]
    },
    {
      "cell_type": "markdown",
      "metadata": {
        "id": "s3XuK6yLrgBk"
      },
      "source": [
        "### Transposta\n"
      ]
    },
    {
      "cell_type": "code",
      "metadata": {
        "id": "q7dSfS0zrhVi",
        "colab": {
          "base_uri": "https://localhost:8080/"
        },
        "outputId": "fab0a0a5-6bf0-46ca-cf0c-a1bc97a8b1c4"
      },
      "source": [
        "m1 = np.arange(10).reshape(2,5)\n",
        "m1"
      ],
      "execution_count": 41,
      "outputs": [
        {
          "output_type": "execute_result",
          "data": {
            "text/plain": [
              "array([[0, 1, 2, 3, 4],\n",
              "       [5, 6, 7, 8, 9]])"
            ]
          },
          "metadata": {},
          "execution_count": 41
        }
      ]
    },
    {
      "cell_type": "code",
      "metadata": {
        "id": "B6R2PFoirpKd",
        "colab": {
          "base_uri": "https://localhost:8080/"
        },
        "outputId": "9085b4ec-a1ec-4718-b62d-7d99dbc38612"
      },
      "source": [
        "# ToDo : imprima a matriz transposta de m1\n",
        "m1.T"
      ],
      "execution_count": 42,
      "outputs": [
        {
          "output_type": "execute_result",
          "data": {
            "text/plain": [
              "array([[0, 5],\n",
              "       [1, 6],\n",
              "       [2, 7],\n",
              "       [3, 8],\n",
              "       [4, 9]])"
            ]
          },
          "metadata": {},
          "execution_count": 42
        }
      ]
    },
    {
      "cell_type": "markdown",
      "metadata": {
        "id": "pgGS5pqJr9lR"
      },
      "source": [
        "### Produto de matrizes"
      ]
    },
    {
      "cell_type": "code",
      "metadata": {
        "id": "TGqupKabr-yf",
        "colab": {
          "base_uri": "https://localhost:8080/"
        },
        "outputId": "0dd9c998-7c54-4723-aa78-165b0fc6a194"
      },
      "source": [
        "n1 = np.arange(10).reshape(2, 5)\n",
        "n1"
      ],
      "execution_count": 43,
      "outputs": [
        {
          "output_type": "execute_result",
          "data": {
            "text/plain": [
              "array([[0, 1, 2, 3, 4],\n",
              "       [5, 6, 7, 8, 9]])"
            ]
          },
          "metadata": {},
          "execution_count": 43
        }
      ]
    },
    {
      "cell_type": "code",
      "metadata": {
        "id": "pp96FkvQsAlh",
        "colab": {
          "base_uri": "https://localhost:8080/"
        },
        "outputId": "5cddf7f0-6278-4969-a483-5cd6970068d9"
      },
      "source": [
        "n2 = np.arange(15).reshape(5, 3)\n",
        "n2"
      ],
      "execution_count": 44,
      "outputs": [
        {
          "output_type": "execute_result",
          "data": {
            "text/plain": [
              "array([[ 0,  1,  2],\n",
              "       [ 3,  4,  5],\n",
              "       [ 6,  7,  8],\n",
              "       [ 9, 10, 11],\n",
              "       [12, 13, 14]])"
            ]
          },
          "metadata": {},
          "execution_count": 44
        }
      ]
    },
    {
      "cell_type": "code",
      "metadata": {
        "id": "2d1Ds0AVsDa7",
        "colab": {
          "base_uri": "https://localhost:8080/"
        },
        "outputId": "fe70a2c3-d47d-4857-d8db-ba179c9b4972"
      },
      "source": [
        "n1.dot(n2)"
      ],
      "execution_count": 45,
      "outputs": [
        {
          "output_type": "execute_result",
          "data": {
            "text/plain": [
              "array([[ 90, 100, 110],\n",
              "       [240, 275, 310]])"
            ]
          },
          "metadata": {},
          "execution_count": 45
        }
      ]
    },
    {
      "cell_type": "code",
      "source": [
        "# ToDo: Crie um array de 1 a 25 com shape (5, 5) e faça a multiplicação por uma matriz de zeros de (5, 1).\n",
        "a = np.arange(1, 26).reshape(5, 5)\n",
        "b = np.zeros((5, 1))\n",
        "c = a @ b # multiplicação matricial\n",
        "\n",
        "print(\"a =\\n\", a)\n",
        "print(\"b =\\n\", b)\n",
        "print(\"c =\\n\", c)"
      ],
      "metadata": {
        "id": "i-gOiMYUljXq",
        "colab": {
          "base_uri": "https://localhost:8080/"
        },
        "outputId": "a20ede45-338e-4509-b598-7145ef10575c"
      },
      "execution_count": 46,
      "outputs": [
        {
          "output_type": "stream",
          "name": "stdout",
          "text": [
            "a =\n",
            " [[ 1  2  3  4  5]\n",
            " [ 6  7  8  9 10]\n",
            " [11 12 13 14 15]\n",
            " [16 17 18 19 20]\n",
            " [21 22 23 24 25]]\n",
            "b =\n",
            " [[0.]\n",
            " [0.]\n",
            " [0.]\n",
            " [0.]\n",
            " [0.]]\n",
            "c =\n",
            " [[0.]\n",
            " [0.]\n",
            " [0.]\n",
            " [0.]\n",
            " [0.]]\n"
          ]
        }
      ]
    },
    {
      "cell_type": "markdown",
      "metadata": {
        "id": "frQ6zLAsx1pt"
      },
      "source": [
        "### Matriz Inversa"
      ]
    },
    {
      "cell_type": "code",
      "metadata": {
        "id": "gyUBiYy8x4Zb",
        "colab": {
          "base_uri": "https://localhost:8080/"
        },
        "outputId": "e52fea60-8b30-47d4-9904-57c282340e1d"
      },
      "source": [
        "import numpy.linalg as linalg\n",
        "\n",
        "m3 = np.array([[1,2,3],[5,7,11],[21,29,31]])\n",
        "\n",
        "m3"
      ],
      "execution_count": 47,
      "outputs": [
        {
          "output_type": "execute_result",
          "data": {
            "text/plain": [
              "array([[ 1,  2,  3],\n",
              "       [ 5,  7, 11],\n",
              "       [21, 29, 31]])"
            ]
          },
          "metadata": {},
          "execution_count": 47
        }
      ]
    },
    {
      "cell_type": "code",
      "metadata": {
        "id": "Fmofch4Nx6rG",
        "colab": {
          "base_uri": "https://localhost:8080/"
        },
        "outputId": "93adf765-4106-4460-99c4-818eb62607fd"
      },
      "source": [
        "linalg.inv(m3)"
      ],
      "execution_count": 48,
      "outputs": [
        {
          "output_type": "execute_result",
          "data": {
            "text/plain": [
              "array([[-2.31818182,  0.56818182,  0.02272727],\n",
              "       [ 1.72727273, -0.72727273,  0.09090909],\n",
              "       [-0.04545455,  0.29545455, -0.06818182]])"
            ]
          },
          "metadata": {},
          "execution_count": 48
        }
      ]
    },
    {
      "cell_type": "markdown",
      "source": [
        "> **ToDo**: O que a função `linalg.inv` faz?\n",
        "\n",
        "A função `np.linalg.inv` calcula a matriz inversa de uma matriz quadrada $A$, ou seja, retorna uma matriz $B$ tal que $A \\cdot B = I$, onde $I$ é a matriz identidade."
      ],
      "metadata": {
        "id": "0ZG2aSg3l3nF"
      }
    },
    {
      "cell_type": "markdown",
      "metadata": {
        "id": "akbN2w1yyAs0"
      },
      "source": [
        "### Matriz identidade"
      ]
    },
    {
      "cell_type": "code",
      "metadata": {
        "id": "XCdstJwQx_4J",
        "colab": {
          "base_uri": "https://localhost:8080/"
        },
        "outputId": "08791062-369e-4935-f64f-cc8edf745b42"
      },
      "source": [
        "m3.dot(linalg.inv(m3))"
      ],
      "execution_count": 49,
      "outputs": [
        {
          "output_type": "execute_result",
          "data": {
            "text/plain": [
              "array([[ 1.00000000e+00, -1.66533454e-16,  0.00000000e+00],\n",
              "       [ 6.31439345e-16,  1.00000000e+00, -1.38777878e-16],\n",
              "       [ 5.21110932e-15, -2.38697950e-15,  1.00000000e+00]])"
            ]
          },
          "metadata": {},
          "execution_count": 49
        }
      ]
    },
    {
      "cell_type": "code",
      "source": [
        "# ToDo: Crie uma matriz identidade de tamanho (5, 5)\n",
        "np.identity(5)"
      ],
      "metadata": {
        "id": "8Sw8Vp9-m2Ue",
        "colab": {
          "base_uri": "https://localhost:8080/"
        },
        "outputId": "dca31ae5-3ff1-4339-8fc6-f5cb044f04ae"
      },
      "execution_count": 50,
      "outputs": [
        {
          "output_type": "execute_result",
          "data": {
            "text/plain": [
              "array([[1., 0., 0., 0., 0.],\n",
              "       [0., 1., 0., 0., 0.],\n",
              "       [0., 0., 1., 0., 0.],\n",
              "       [0., 0., 0., 1., 0.],\n",
              "       [0., 0., 0., 0., 1.]])"
            ]
          },
          "metadata": {},
          "execution_count": 50
        }
      ]
    },
    {
      "cell_type": "markdown",
      "source": [
        "# Produto Interno (Dot Product)\n",
        "\n",
        "O produto interno de dois vetores, é uma operação que resulta em um único número escalar. Geometricamente, ele está relacionado ao comprimento dos vetores e ao ângulo entre eles. Em machine learning, o produto interno é a base para o cálculo de similaridades (como a similaridade de cosseno) e é a operação central nas camadas densamente conectadas das redes neurais."
      ],
      "metadata": {
        "id": "-TBfwXCn3Q1R"
      }
    },
    {
      "cell_type": "code",
      "source": [
        "v1, v2 = np.array([1, 2, 3, 4]), np.array([5, 6, 7, 8])\n",
        "\n",
        "# Exemplo de produto interno usando np.dot()\n",
        "prod_interno_dot = np.dot(v1, v2)\n",
        "print(\"Produto interno (np.dot):\", prod_interno_dot)\n",
        "\n",
        "\n",
        "# ToDo: Verifique se o produto interno entre os dois vetores é o mesmo em ambos os casos.\n",
        "# O resultado deve ser (1*4) + (2*5) + (3*6) = 4 + 10 + 18 = 32\n",
        "v1, v2 = np.array([1, 2, 3]), np.array([4, 5, 6])\n",
        "print(\"Produto interno (np.dot):\", np.dot(v1, v2))"
      ],
      "metadata": {
        "id": "DnOQJSNZ3czn",
        "colab": {
          "base_uri": "https://localhost:8080/"
        },
        "outputId": "da33f49b-e803-4f77-eb1a-5b671f62f980"
      },
      "execution_count": 56,
      "outputs": [
        {
          "output_type": "stream",
          "name": "stdout",
          "text": [
            "Produto interno (np.dot): 70\n",
            "Produto interno (np.dot): 32\n"
          ]
        }
      ]
    },
    {
      "cell_type": "markdown",
      "source": [
        "O produto interno também está relacionado à norma (comprimento) de um vetor:\n",
        "$$ \\|\\mathbf{a}\\| = \\sqrt{\\mathbf{a} \\cdot \\mathbf{a}} $$"
      ],
      "metadata": {
        "id": "ZN1DxBWU4CzM"
      }
    },
    {
      "cell_type": "code",
      "source": [
        "# ToDo: Calcule a norma do vetor v1.\n",
        "# Dica: Use a função np.sqrt() para a raiz quadrada.\n",
        "# O resultado deve ser sqrt(1^2 + 2^2 + 3^2) = sqrt(14) ~= 3.74\n",
        "\n",
        "norma_v1 = np.sqrt(np.dot(v1, v1))\n",
        "print(\"Norma do vetor v1:\", norma_v1)"
      ],
      "metadata": {
        "id": "o-WxFpZD4Db2",
        "colab": {
          "base_uri": "https://localhost:8080/"
        },
        "outputId": "d1f12cee-b562-4477-c294-c8d244eb99d0"
      },
      "execution_count": 57,
      "outputs": [
        {
          "output_type": "stream",
          "name": "stdout",
          "text": [
            "Norma do vetor v1: 3.7416573867739413\n"
          ]
        }
      ]
    },
    {
      "cell_type": "markdown",
      "source": [
        "Usando a definição de produto interno, podemos encontrar o ângulo entre os vetores:\n",
        "$$ \\cos(\\theta) = \\frac{\\mathbf{a} \\cdot \\mathbf{b}}{\\|\\mathbf{a}\\| \\|\\mathbf{b}\\|} $$"
      ],
      "metadata": {
        "id": "D_-u4P3P4Lw6"
      }
    },
    {
      "cell_type": "code",
      "source": [
        "# ToDo: Calcule o cosseno do ângulo entre os vetores v1 e v2.\n",
        "# Use o produto interno e as normas calculadas.\n",
        "\n",
        "prod_interno_v1_v2 = np.dot(v1, v2) # Use np.dot(v1, v2)\n",
        "norma_v1 = np.sqrt(np.dot(v1, v1))\n",
        "norma_v2 = np.sqrt(np.dot(v2, v2))\n",
        "\n",
        "cos_theta = prod_interno_v1_v2 / (norma_v1 * norma_v2)\n",
        "print(\"Cosseno do ângulo entre v1 e v2:\", cos_theta)"
      ],
      "metadata": {
        "id": "bvPg28ph4NSu",
        "colab": {
          "base_uri": "https://localhost:8080/"
        },
        "outputId": "4505afe4-8825-4e78-db0d-568005f2c93d"
      },
      "execution_count": 53,
      "outputs": [
        {
          "output_type": "stream",
          "name": "stdout",
          "text": [
            "Cosseno do ângulo entre v1 e v2: 0.9746318461970762\n"
          ]
        }
      ]
    },
    {
      "cell_type": "markdown",
      "source": [
        "> **ToDo**: O que você pode dizer sobre o produto interno entre dois vetores? E qual a relação entre o resultado do produto interno e a similaridade de cosseno entre eles?\n",
        "\n",
        "O produto interno (ou escalar) entre dois vetores $\\mathbf{u}$ e $\\mathbf{v}$ é definido como a soma dos produtos de suas componentes:\n",
        "\n",
        "$$\n",
        "\\mathbf{u} \\cdot \\mathbf{v} = \\sum_i u_i v_i\n",
        "$$\n",
        "\n",
        "Ele mede o quanto os vetores estão alinhados na mesma direção.\n",
        "\n",
        "A similaridade de cosseno entre dois vetores é o produto interno normalizado pelos comprimentos dos vetores:\n",
        "\n",
        "$$\n",
        "\\cos(\\theta) = \\frac{\\mathbf{u} \\cdot \\mathbf{v}}{\\|\\mathbf{u}\\| \\|\\mathbf{v}\\|}\n",
        "$$\n",
        "\n",
        "Ou seja, quanto maior o produto interno relativo aos comprimentos dos vetores, maior a similaridade de direção entre eles.\n",
        "\n",
        "Fonte: Mathematical Methods for Physicists - Arfken, Harris & Weber - 7th Edition\n"
      ],
      "metadata": {
        "id": "07hMWYpmbsSg"
      }
    },
    {
      "cell_type": "markdown",
      "source": [
        "# PyTorch"
      ],
      "metadata": {
        "id": "OJcNmoNJ4S-h"
      }
    },
    {
      "cell_type": "code",
      "source": [
        "# ToDo: Repitir TODOS OS TESTES ACIMA com o objeto ndarray do Pytorch\n",
        "import torch\n",
        "\n",
        "# Produto interno (dot product)\n",
        "v1, v2 = torch.tensor([1, 2, 3, 4]), torch.tensor([5, 6, 7, 8])\n",
        "\n",
        "# Exemplo de produto interno usando torch.dot()\n",
        "prod_interno_dot = torch.dot(v1, v2)\n",
        "print(\"Produto interno (torch.dot):\", prod_interno_dot.item())\n",
        "\n",
        "\n",
        "# Verificar se o produto interno é o mesmo nos dois casos\n",
        "# O resultado deve ser (1*4) + (2*5) + (3*6) = 32\n",
        "v1, v2 = torch.tensor([1, 2, 3]), torch.tensor([4, 5, 6])\n",
        "print(\"Produto interno (torch.dot):\", torch.dot(v1, v2).item())\n",
        "\n",
        "\n",
        "# Norma de um vetor\n",
        "# ||a|| = sqrt(a . a)\n",
        "norma_v1 = torch.sqrt(torch.dot(v1, v1).float())\n",
        "print(\"Norma do vetor v1:\", norma_v1.item())\n",
        "\n",
        "\n",
        "# Cosseno do ângulo entre dois vetores\n",
        "prod_interno_v1_v2 = torch.dot(v1, v2).float()\n",
        "norma_v1 = torch.sqrt(torch.dot(v1, v1).float())\n",
        "norma_v2 = torch.sqrt(torch.dot(v2, v2).float())\n",
        "\n",
        "cos_theta = prod_interno_v1_v2 / (norma_v1 * norma_v2)\n",
        "print(\"Cosseno do ângulo entre v1 e v2:\", cos_theta.item())\n"
      ],
      "metadata": {
        "id": "EpdMpWT1_8w1",
        "colab": {
          "base_uri": "https://localhost:8080/"
        },
        "outputId": "4d13a740-f8a7-493a-e68b-d07c1b17e4fa"
      },
      "execution_count": 58,
      "outputs": [
        {
          "output_type": "stream",
          "name": "stdout",
          "text": [
            "Produto interno (torch.dot): 70\n",
            "Produto interno (torch.dot): 32\n",
            "Norma do vetor v1: 3.7416574954986572\n",
            "Cosseno do ângulo entre v1 e v2: 0.9746317863464355\n"
          ]
        }
      ]
    },
    {
      "cell_type": "markdown",
      "source": [
        "# Regressão linear com pytorch\n",
        "\n",
        "\n",
        "\n",
        "Utilize o **dataset Diabetes** do `scikit-learn` para resolver um problema de **regressão linear** em **PyTorch**.\n",
        "\n",
        "1. Carregue e normalize os dados.\n",
        "2. Resolva o problema de duas formas:\n",
        "\n",
        "   * **(a)** Usando a solução analítica (equação normal ou pseudo-inversa) apenas com tensores.\n",
        "   * **(b)** Treinando um modelo `nn.Linear` com gradiente descendente.\n",
        "3. Compare os resultados obtidos (MSE e $R^2$) e discuta a diferença entre os pesos encontrados nos dois métodos.\n",
        "\n",
        "Sugestão de leitura: [Capítulo 3 do livro texto](https://d2l.ai/chapter_linear-regression/index.html).\n",
        "\n"
      ],
      "metadata": {
        "id": "C2uIubKSnCM7"
      }
    },
    {
      "cell_type": "code",
      "source": [
        "# %% ------------------------------------------------------------\n",
        "# Regressão no Diabetes (scikit-learn) com PyTorch\n",
        "# A) Solução analítica (pseudo-inversa)\n",
        "# B) Treinamento com gradiente (nn.Linear)\n",
        "# --------------------------------------------------------------\n",
        "import torch\n",
        "import torch.nn as nn\n",
        "import torch.optim as optim\n",
        "from sklearn.datasets import load_diabetes\n",
        "from sklearn.model_selection import train_test_split\n",
        "from sklearn.preprocessing import StandardScaler\n",
        "from sklearn.metrics import mean_squared_error, r2_score\n",
        "import matplotlib.pyplot as plt\n",
        "import seaborn as sns\n",
        "\n",
        "# Dispositivo (usa GPU se disponível)\n",
        "device = torch.device(\"cuda\" if torch.cuda.is_available() else \"cpu\")\n",
        "\n",
        "# 1) Carregar dados do dataset Diabetes\n",
        "X_np, y_np = load_diabetes(return_X_y=True)  # X: (442,10), y: (442,)\n",
        "\n",
        "# 2) Dividir dados em treino e teste\n",
        "X_tr, X_te, y_tr, y_te = train_test_split(X_np, y_np, test_size=0.2, random_state=42)\n",
        "\n",
        "# 3) Normalização dos dados (média 0 e desvio padrão 1)\n",
        "scaler = StandardScaler()\n",
        "X_tr = scaler.fit_transform(X_tr)\n",
        "X_te = scaler.transform(X_te)\n",
        "\n",
        "# 4) Conversão para tensores do PyTorch (e envio para GPU se disponível)\n",
        "X_tr_t = torch.tensor(X_tr, dtype=torch.float32, device=device)\n",
        "X_te_t = torch.tensor(X_te, dtype=torch.float32, device=device)\n",
        "y_tr_t = torch.tensor(y_tr, dtype=torch.float32, device=device).view(-1, 1)\n",
        "y_te_t = torch.tensor(y_te, dtype=torch.float32, device=device).view(-1, 1)\n",
        "\n",
        "# =======================================================\n",
        "# A) Solução analítica (pseudo-inversa)\n",
        "# =======================================================\n",
        "# Adiciona coluna de 1s para o bias (intercepto)\n",
        "X_tr_bias = torch.cat([torch.ones(X_tr_t.shape[0], 1, device=device), X_tr_t], dim=1)\n",
        "X_te_bias = torch.cat([torch.ones(X_te_t.shape[0], 1, device=device), X_te_t], dim=1)\n",
        "\n",
        "# Calcula os pesos usando pseudo-inversa (equação normal)\n",
        "w_analytical = torch.linalg.pinv(X_tr_bias) @ y_tr_t\n",
        "\n",
        "# Faz predição nos dados de teste\n",
        "y_pred_analytical = X_te_bias @ w_analytical\n",
        "\n",
        "# Calcula métricas de erro e ajuste\n",
        "mse_a = mean_squared_error(y_te, y_pred_analytical.cpu().detach().numpy())\n",
        "r2_a = r2_score(y_te, y_pred_analytical.cpu().detach().numpy())\n",
        "\n",
        "# =======================================================\n",
        "# B) Regressão Linear com nn.Linear + SGD\n",
        "# =======================================================\n",
        "# Cria modelo linear\n",
        "model = nn.Linear(X_tr_t.shape[1], 1).to(device)\n",
        "\n",
        "# Define função de perda e otimizador\n",
        "criterion = nn.MSELoss()\n",
        "optimizer = optim.SGD(model.parameters(), lr=0.01)\n",
        "\n",
        "# Treinamento do modelo\n",
        "epochs = 1000\n",
        "for epoch in range(epochs):\n",
        "    # Predição nos dados de treino\n",
        "    y_pred = model(X_tr_t)\n",
        "    # Calcula a perda\n",
        "    loss = criterion(y_pred, y_tr_t)\n",
        "\n",
        "    # Backpropagation\n",
        "    optimizer.zero_grad()\n",
        "    loss.backward()\n",
        "    optimizer.step()\n",
        "\n",
        "# Predição nos dados de teste após treinamento\n",
        "y_pred_model = model(X_te_t).detach().cpu().numpy()\n",
        "\n",
        "# Calcula métricas de erro e ajuste\n",
        "mse_b = mean_squared_error(y_te, y_pred_model)\n",
        "r2_b = r2_score(y_te, y_pred_model)\n",
        "\n",
        "# =======================================================\n",
        "# Comparação dos resultados\n",
        "# =======================================================\n",
        "print(\"=== Solução Analítica ===\")\n",
        "print(f\"MSE: {mse_a:.4f}\")\n",
        "print(f\"R² : {r2_a:.4f}\")\n",
        "\n",
        "print(\"\\n=== Regressão Treinada ===\")\n",
        "print(f\"MSE: {mse_b:.4f}\")\n",
        "print(f\"R² : {r2_b:.4f}\")\n",
        "\n",
        "print(\"\\n=== Comparação dos pesos ===\")\n",
        "# Mostra os primeiros 5 pesos e bias para comparação\n",
        "print(\"Pesos analíticos (primeiros 5):\", w_analytical.view(-1)[:5].cpu().numpy())\n",
        "print(\"Pesos treinados  (primeiros 5):\", list(model.parameters())[0].detach().cpu().numpy()[0][:5])\n",
        "print(\"Bias analítico:\", w_analytical[0].item())\n",
        "print(\"Bias treinado :\", list(model.parameters())[1].item())\n",
        "\n",
        "# =======================================================\n",
        "# Plot comparativo usando seaborn regplot com parâmetros em LaTeX\n",
        "# =======================================================\n",
        "sns.set(style=\"whitegrid\")\n",
        "plt.figure(figsize=(12, 8))\n",
        "\n",
        "# Pega os pesos e bias do modelo nn.Linear\n",
        "w_nn = list(model.parameters())[0].detach().cpu().numpy().flatten()\n",
        "b_nn = list(model.parameters())[1].item()\n",
        "w_anal = w_analytical.view(-1).cpu().numpy()\n",
        "\n",
        "# Cria strings LaTeX para os labels (mostra bias e pesos)\n",
        "label_analytical = r\"$\\text{Analítico: } b=%.6f,\\ w=[%s]$\" % (\n",
        "    w_anal[0], ', '.join(f\"{x:.6f}\" for x in w_anal[1:]))\n",
        "label_nn = r\"$\\text{nn.Linear: } b=%.6f,\\ w=[%s]$\" % (\n",
        "    b_nn, ', '.join(f\"{x:.6f}\" for x in w_nn))\n",
        "\n",
        "# Ponto real vs predito (analítico)\n",
        "sns.regplot(\n",
        "    x=y_te,\n",
        "    y=y_pred_analytical.cpu().detach().numpy(),\n",
        "    color='orange',\n",
        "    label=label_analytical,\n",
        "    scatter_kws={'alpha':0.6}\n",
        ")\n",
        "\n",
        "# Ponto real vs predito (modelo nn.Linear)\n",
        "sns.regplot(\n",
        "    x=y_te,\n",
        "    y=y_pred_model,\n",
        "    color='green',\n",
        "    label=label_nn,\n",
        "    scatter_kws={'alpha':0.6}\n",
        ")\n",
        "\n",
        "# Configuração dos eixos e título\n",
        "plt.xlabel(\"Valores Reais\")\n",
        "plt.ylabel(\"Valores Preditos\")\n",
        "plt.title(\"Comparação: Solução Analítica vs nn.Linear\")\n",
        "\n",
        "# Legenda com fonte menor e caixa semi-transparente\n",
        "plt.legend(fontsize=5.6, framealpha=0.4, loc='upper left')\n",
        "plt.show()"
      ],
      "metadata": {
        "id": "IkMfDfmnAmLx",
        "colab": {
          "base_uri": "https://localhost:8080/",
          "height": 953
        },
        "outputId": "98ccedf8-563c-4d96-b308-503d770bce59"
      },
      "execution_count": 85,
      "outputs": [
        {
          "output_type": "stream",
          "name": "stdout",
          "text": [
            "=== Solução Analítica ===\n",
            "MSE: 2900.1936\n",
            "R² : 0.4526\n",
            "\n",
            "=== Regressão Treinada ===\n",
            "MSE: 2885.7349\n",
            "R² : 0.4553\n",
            "\n",
            "=== Comparação dos pesos ===\n",
            "Pesos analíticos (primeiros 5): [153.73654     1.7537557 -11.511811   25.607115   16.828873 ]\n",
            "Pesos treinados  (primeiros 5): [  1.938181 -11.433336  26.269033  16.607704  -9.815787]\n",
            "Bias analítico: 153.73654174804688\n",
            "Bias treinado : 153.73617553710938\n"
          ]
        },
        {
          "output_type": "display_data",
          "data": {
            "text/plain": [
              "<Figure size 1200x800 with 1 Axes>"
            ],
            "image/png": "[encoded data removed]"
          },
          "metadata": {}
        }
      ]
    }
  ]
}